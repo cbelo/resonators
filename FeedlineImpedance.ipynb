{
 "cells": [
  {
   "cell_type": "code",
   "execution_count": 25,
   "metadata": {},
   "outputs": [],
   "source": [
    "import numpy as np\n",
    "from phidl import LayerSet\n",
    "from phidl import quickplot as qp\n",
    "from phidl import Path, CrossSection, Device\n",
    "import phidl.path as pp\n",
    "import phidl.geometry as pg\n",
    "import phidl\n"
   ]
  },
  {
   "cell_type": "code",
   "execution_count": 54,
   "metadata": {},
   "outputs": [
    {
     "name": "stdout",
     "output_type": "stream",
     "text": [
      "Impedance is  54.17486691913189\n",
      "Number of square is  13333.333333333334\n"
     ]
    }
   ],
   "source": [
    "Center_Pin_Width = 75e-3 #mm\n",
    "Spacing = 4e-3 #Only needed for Ls and Cs calc\n",
    "Length = 1000 #mm, change me\n",
    "#We get Ls and Cs from, https://wcalc.sourceforge.net/cgi-bin/coplanar.cgi\n",
    "Ls = 219.587 #pH/mm\n",
    "Cs = 0.324684 #pF/mm\n",
    "L_kin = 55 #pH/square\n",
    "Num_Of_Squares = Length/Center_Pin_Width\n",
    "Z = np.sqrt((Ls*Length+L_kin*Num_Of_Squares)/(Cs*Length))\n",
    "print('Impedance is ',Z)\n",
    "print('Number of square is ',Num_Of_Squares)"
   ]
  },
  {
   "cell_type": "code",
   "execution_count": 59,
   "metadata": {},
   "outputs": [
    {
     "name": "stdout",
     "output_type": "stream",
     "text": [
      "Impedance is  55.092511094591615\n",
      "Number of square is  11764.70588235294\n"
     ]
    }
   ],
   "source": [
    "Center_Pin_Width = 85e-3 #mm\n",
    "Spacing = 2e-3 #Only needed for Ls and Cs calc\n",
    "Length = 1000 #mm, change me\n",
    "#We get Ls and Cs from, https://wcalc.sourceforge.net/cgi-bin/coplanar.cgi\n",
    "Ls = 191.081 #pH/mm\n",
    "Cs = 0.373044 #pF/mm\n",
    "L_kin = 80 #pH/square\n",
    "Num_Of_Squares = Length/Center_Pin_Width\n",
    "Z = np.sqrt((Ls*Length+L_kin*Num_Of_Squares)/(Cs*Length))\n",
    "print('Impedance is ',Z)\n",
    "print('Number of square is ',Num_Of_Squares)"
   ]
  },
  {
   "cell_type": "code",
   "execution_count": 60,
   "metadata": {},
   "outputs": [
    {
     "name": "stdout",
     "output_type": "stream",
     "text": [
      "Impedance is  68.7764895806104\n",
      "Number of square is  10526.315789473683\n"
     ]
    }
   ],
   "source": [
    "Center_Pin_Width = 95e-3 #mm\n",
    "Spacing = 16e-3 #Only needed for Ls and Cs calc\n",
    "Length = 1000 #mm, change me\n",
    "#We get Ls and Cs from, https://wcalc.sourceforge.net/cgi-bin/coplanar.cgi\n",
    "Ls = 296.564 #pH/mm\n",
    "Cs = 0.240723 #pF/mm\n",
    "L_kin = 80 #pH/square\n",
    "Num_Of_Squares = Length/Center_Pin_Width\n",
    "Z = np.sqrt((Ls*Length+L_kin*Num_Of_Squares)/(Cs*Length))\n",
    "print('Impedance is ',Z)\n",
    "print('Number of square is ',Num_Of_Squares)"
   ]
  },
  {
   "cell_type": "code",
   "execution_count": null,
   "metadata": {},
   "outputs": [],
   "source": []
  },
  {
   "cell_type": "code",
   "execution_count": 39,
   "metadata": {},
   "outputs": [],
   "source": [
    "def FeedlineResonator(ResonatorLength = None,\n",
    "                      ResonatorWidth = None,\n",
    "                      FeedLineWidth = None,\n",
    "                      FeedLineLength = None,\n",
    "                      FeedLineSpacing = None,\n",
    "                      ChipHeight = None):\n",
    "    \n",
    "    if ResonatorLength == None:\n",
    "        ResonatorLength = 1500\n",
    "    if ResonatorWidth == None:\n",
    "        ResonatorWidth  = 2\n",
    "    if FeedLineWidth == None:\n",
    "        FeedLineWidth   = 85\n",
    "    if FeedLineLength == None:\n",
    "        FeedLineLength  = 2000\n",
    "    if FeedLineSpacing == None:\n",
    "        FeedLineSpacing = 2\n",
    "    if ChipHeight == None:\n",
    "        ChipHeight      = 2000\n",
    "\n",
    "    FeedLineResonatorInnerPin_device = Device()\n",
    "    FeedLine_rect = pg.taper(length = FeedLineLength, width1 = FeedLineWidth, width2 = FeedLineWidth, port = None, layer = 0)\n",
    "    Resonator_rect = pg.taper(length = ResonatorLength, width1 = ResonatorWidth, width2 = ResonatorWidth, port = None, layer = 0)\n",
    "\n",
    "    FeedLineRight_ref = FeedLineResonatorInnerPin_device << FeedLine_rect\n",
    "    FeedLineLeft_ref = FeedLineResonatorInnerPin_device << FeedLine_rect\n",
    "    Resonator_ref = FeedLineResonatorInnerPin_device << Resonator_rect\n",
    "\n",
    "    Resonator_ref.connect(2,FeedLineLeft_ref.ports[1])\n",
    "    FeedLineRight_ref.connect(2,Resonator_ref.ports[1])\n",
    "\n",
    "    FeedLineResonator_Device = Device()\n",
    "\n",
    "    Spacing_rect = pg.taper(length = 2*FeedLineLength+ResonatorLength+2*FeedLineSpacing, width1 = FeedLineWidth+2*FeedLineSpacing, width2 = FeedLineWidth+2*FeedLineSpacing, port = None, layer = 0)\n",
    "\n",
    "    Chip_rect = pg.rectangle(size=(2*FeedLineLength+ResonatorLength+2*FeedLineSpacing, ChipHeight))\n",
    "\n",
    "\n",
    "    FeedLineResonatorInnerPin_ref = FeedLineResonator_Device << FeedLineResonatorInnerPin_device\n",
    "    Spacing_ref = FeedLineResonator_Device << Spacing_rect\n",
    "    Chip_ref = FeedLineResonator_Device << Chip_rect\n",
    "\n",
    "    FeedLineResonatorInnerPin_ref.move(Chip_ref.center - FeedLineResonatorInnerPin_ref.center)\n",
    "    Spacing_ref.move(Chip_ref.center - Spacing_ref.center)\n",
    "\n",
    "\n",
    "    EtchedArea = pg.xor_diff(A = Spacing_ref,B = Chip_ref, precision=1e-6)\n",
    "\n",
    "    FinalDevice = Device()\n",
    "    EtchedArea = FinalDevice << EtchedArea\n",
    "    FeedLineResonatorInnerPin_ref = FinalDevice << FeedLineResonatorInnerPin_device\n",
    "    FeedLineResonatorInnerPin_ref.move(EtchedArea.center-FeedLineResonatorInnerPin_ref.center)\n",
    "\n",
    "    return FinalDevice"
   ]
  },
  {
   "cell_type": "code",
   "execution_count": 42,
   "metadata": {},
   "outputs": [
    {
     "data": {
      "image/png": "[encoded data removed]",
      "text/plain": [
       "<Figure size 640x480 with 1 Axes>"
      ]
     },
     "metadata": {},
     "output_type": "display_data"
    }
   ],
   "source": [
    "FLR_Device = FeedlineResonator(ResonatorLength = None,ResonatorWidth = None,FeedLineWidth = None,FeedLineLength = None,FeedLineSpacing = None,ChipHeight = None)\n",
    "\n",
    "FLR_Device.write_gds('ResToRas01')\n",
    "\n",
    "qp(FLR_Device)"
   ]
  },
  {
   "cell_type": "code",
   "execution_count": null,
   "metadata": {},
   "outputs": [],
   "source": []
  }
 ],
 "metadata": {
  "kernelspec": {
   "display_name": "phidl",
   "language": "python",
   "name": "python3"
  },
  "language_info": {
   "codemirror_mode": {
    "name": "ipython",
    "version": 3
   },
   "file_extension": ".py",
   "mimetype": "text/x-python",
   "name": "python",
   "nbconvert_exporter": "python",
   "pygments_lexer": "ipython3",
   "version": "3.11.4"
  },
  "orig_nbformat": 4
 },
 "nbformat": 4,
 "nbformat_minor": 2
}
