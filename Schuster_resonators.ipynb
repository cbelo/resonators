{
 "cells": [
  {
   "cell_type": "code",
   "execution_count": 2,
   "metadata": {},
   "outputs": [],
   "source": [
    "%load_ext autoreload\n",
    "%autoreload 2\n",
    "import numpy as np\n",
    "from phidl import LayerSet\n",
    "from phidl import quickplot as qp\n",
    "from phidl import Path, CrossSection, Device\n",
    "import phidl.path as pp\n",
    "import phidl.geometry as pg\n",
    "import phidl\n",
    "\n",
    "from MyPhidlFunctions import *\n",
    "from resonator import ChipResonatorsTline\n",
    "from approx_Schuster import *"
   ]
  },
  {
   "cell_type": "code",
   "execution_count": 7,
   "metadata": {},
   "outputs": [
    {
     "data": {
      "image/png": "[encoded data removed]",
      "text/plain": [
       "<Figure size 640x480 with 1 Axes>"
      ]
     },
     "metadata": {},
     "output_type": "display_data"
    },
    {
     "data": {
      "text/plain": [
       "'OneResonatorTest_Higher_Cc.gds'"
      ]
     },
     "execution_count": 7,
     "metadata": {},
     "output_type": "execute_result"
    }
   ],
   "source": [
    "\n",
    "Chipsize = [1500,1500]\n",
    "SeparationTlineResonator = 0\n",
    "NumberOfResonators = 1\n",
    "FeedlineWidth = 20\n",
    "FeedlineLength  = 1000\n",
    "FeedlineGap = 5\n",
    "FeedlineTaperLength =  50\n",
    "BondpadWidth =  100\n",
    "BondpadLength = 200\n",
    "BondpadGap = 50\n",
    "\n",
    "#Resonator parameters\n",
    "CapacitorHorizontalLength = np.ones(NumberOfResonators)*120\n",
    "CapacitorVerticalLength = np.ones(NumberOfResonators)*200\n",
    "CapacitorWidth = np.ones(NumberOfResonators)*15\n",
    "\n",
    "NumberOfBends = np.ones(NumberOfResonators, dtype=int)*50\n",
    "InductorVerticalLength = np.ones(NumberOfResonators)*11\n",
    "InductorHorizontalLength = np.ones(NumberOfResonators)*50\n",
    "InductorEndLength = 50*np.ones(NumberOfResonators)\n",
    "InductorTotalLength = InductorVerticalLength*(NumberOfBends+4) + InductorEndLength +InductorHorizontalLength*NumberOfBends\n",
    "InductorWidth = np.ones(NumberOfResonators)*1\n",
    "TaperWidth = np.ones(NumberOfResonators)*20\n",
    "SpacingC0 = np.ones(NumberOfResonators)*10\n",
    "SpacingCc = np.ones(NumberOfResonators)*0\n",
    "TaperLength = np.ones(NumberOfResonators)*5\n",
    "\n",
    "\n",
    "c, metal,chip = ChipResonatorsTline(Chipsize, NumberOfResonators, SeparationTlineResonator,\n",
    "                        FeedlineWidth, FeedlineLength, FeedlineGap, \n",
    "                        FeedlineTaperLength, BondpadWidth, BondpadLength, BondpadGap,\n",
    "                        CapacitorHorizontalLength, CapacitorVerticalLength, CapacitorWidth,\n",
    "                        NumberOfBends, InductorVerticalLength, InductorHorizontalLength, InductorWidth, InductorEndLength,\n",
    "                        TaperWidth, TaperLength, SpacingC0, SpacingCc)\n",
    "\n",
    "# qp([c, metal])\n",
    "qp(chip)\n",
    "chip.write_gds(\"OneResonatorTest_Higher_Cc.gds\")"
   ]
  },
  {
   "cell_type": "code",
   "execution_count": 10,
   "metadata": {},
   "outputs": [
    {
     "name": "stdout",
     "output_type": "stream",
     "text": [
      " Imp: [147.56445493] Ohm\n",
      "Freq: [39.6875105] GHz\n"
     ]
    }
   ],
   "source": [
    "epsilon_r = 11.9\n",
    "thickness_subs = 500e-6\n",
    "ind_kin_sq = 5e-12\n",
    "print(f' Imp: {impedance_Schuster(CapacitorWidth*1e-6, CapacitorHorizontalLength*1e-6, (SeparationTlineResonator + FeedlineGap + SpacingCc)*1e-6 , InductorWidth*1e-6, InductorTotalLength*1e-6, SpacingC0*1e-6, epsilon_r, thickness_subs, ind_kin_sq)} Ohm')\n",
    "FeedlineGap = 5\n",
    "print(f'Freq: {1e-9*resonance_freq_Schuster(CapacitorWidth*1e-6, CapacitorHorizontalLength*1e-6, SeparationTlineResonator*1e-6 + SpacingCc*1e-6 + FeedlineGap*1e-6, InductorWidth*1e-6, InductorTotalLength*1e-6, SpacingC0*1e-6, epsilon_r, thickness_subs, ind_kin_sq)} GHz')"
   ]
  },
  {
   "cell_type": "code",
   "execution_count": 11,
   "metadata": {},
   "outputs": [
    {
     "name": "stdout",
     "output_type": "stream",
     "text": [
      " Imp: [547.87823686] Ohm\n",
      "Freq: [10.68935661] GHz\n"
     ]
    }
   ],
   "source": [
    "epsilon_r = 11.9\n",
    "thickness_subs = 500e-6\n",
    "ind_kin_sq = 100e-12\n",
    "print(f' Imp: {impedance_Schuster(CapacitorWidth*1e-6, CapacitorHorizontalLength*1e-6, (SeparationTlineResonator + FeedlineGap + SpacingCc)*1e-6 , InductorWidth*1e-6, InductorTotalLength*1e-6, SpacingC0*1e-6, epsilon_r, thickness_subs, ind_kin_sq)} Ohm')\n",
    "print(f'Freq: {1e-9*resonance_freq_Schuster(CapacitorWidth*1e-6, CapacitorHorizontalLength*1e-6, SeparationTlineResonator*1e-6 + SpacingCc*1e-6 +FeedlineGap*1e-6, InductorWidth*1e-6, InductorTotalLength*1e-6, SpacingC0*1e-6, epsilon_r, thickness_subs, ind_kin_sq)} GHz')"
   ]
  },
  {
   "cell_type": "code",
   "execution_count": 95,
   "metadata": {},
   "outputs": [
    {
     "data": {
      "text/plain": [
       "4.47213595499958"
      ]
     },
     "execution_count": 95,
     "metadata": {},
     "output_type": "execute_result"
    }
   ],
   "source": [
    "np.sqrt(100/5)"
   ]
  },
  {
   "cell_type": "code",
   "execution_count": 96,
   "metadata": {},
   "outputs": [
    {
     "data": {
      "text/plain": [
       "1.5492454328832406"
      ]
     },
     "execution_count": 96,
     "metadata": {},
     "output_type": "execute_result"
    }
   ],
   "source": [
    "39.01/25.18"
   ]
  }
 ],
 "metadata": {
  "kernelspec": {
   "display_name": "resonators",
   "language": "python",
   "name": "python3"
  },
  "language_info": {
   "codemirror_mode": {
    "name": "ipython",
    "version": 3
   },
   "file_extension": ".py",
   "mimetype": "text/x-python",
   "name": "python",
   "nbconvert_exporter": "python",
   "pygments_lexer": "ipython3",
   "version": "3.12.2"
  }
 },
 "nbformat": 4,
 "nbformat_minor": 2
}
