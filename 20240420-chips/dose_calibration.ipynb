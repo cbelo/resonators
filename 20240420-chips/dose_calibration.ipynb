{
 "cells": [
  {
   "cell_type": "code",
   "execution_count": 1,
   "metadata": {},
   "outputs": [],
   "source": [
    "#run only once!\n",
    "%load_ext autoreload\n",
    "%autoreload 2\n",
    "import os\n",
    "os.chdir(os.path.abspath(os.path.join(os.getcwd(), os.pardir)))"
   ]
  },
  {
   "cell_type": "code",
   "execution_count": 2,
   "metadata": {},
   "outputs": [],
   "source": [
    "import numpy as np\n",
    "from phidl import LayerSet\n",
    "from phidl import quickplot as qp\n",
    "from phidl import Path, CrossSection, Device\n",
    "import phidl.path as pp\n",
    "import phidl.geometry as pg\n",
    "import phidl\n",
    "import matplotlib.pyplot as plt\n",
    "from Bertram_Functions.MyPhidlFunctions import *\n",
    "from Schuster_Resonators.resonator import SchusterResonatorSmooth\n",
    "from Schuster_Resonators.approx_Schuster import *\n",
    "from CPW.cpw import *"
   ]
  },
  {
   "cell_type": "markdown",
   "metadata": {},
   "source": [
    "## Calibration for 20240514-SiRes-12pHsq-v1.gds"
   ]
  },
  {
   "cell_type": "code",
   "execution_count": 6,
   "metadata": {},
   "outputs": [],
   "source": [
    "def calibration_resonator(CapacitorHorizontalLength, \n",
    "                            CapacitorVerticalLength, \n",
    "                            CapacitorWidth,\n",
    "                            NumberOfBends, \n",
    "                            InductorVerticalLength,\n",
    "                            InductorHorizontalLength,\n",
    "                            InductorWidth,\n",
    "                            InductorEndLength,\n",
    "                            TaperWidth,\n",
    "                            TaperLength,\n",
    "                            SpacingC0, \n",
    "                            SpacingCc):\n",
    "    \n",
    "    #Layers\n",
    "    ls = LayerSet()\n",
    "    ls.add_layer('Etch', gds_layer=0, color = 'red')\n",
    "    ls.add_layer('Cap', gds_layer=1, color = 'blue')\n",
    "    ls.add_layer('Ind', gds_layer=2, color = 'grey')\n",
    "\n",
    "    #Shapes\n",
    "    Resonator, Etch, Dcap, Dind, Droute = SchusterResonatorSmooth(CapacitorHorizontalLength, \n",
    "                                                  CapacitorVerticalLength, \n",
    "                                                  CapacitorWidth,\n",
    "                                                  NumberOfBends, \n",
    "                                                  InductorVerticalLength,\n",
    "                                                  InductorHorizontalLength,\n",
    "                                                  InductorWidth,\n",
    "                                                  InductorEndLength,\n",
    "                                                  TaperWidth,\n",
    "                                                  TaperLength,\n",
    "                                                  SpacingC0, \n",
    "                                                  SpacingCc,\n",
    "                                                  calib = True)\n",
    "    \n",
    "    #Final devices\n",
    "    FinalDevice = Device('FinalDevice')\n",
    "    FinalDevice.add_polygon(Dcap.get_polygons(), layer = ls['Cap'])\n",
    "    FinalDevice.add_polygon(Dind.get_polygons(), layer = ls['Ind'])\n",
    "    FinalDevice.add_polygon(Droute.get_polygons(), layer = ls['Cap'])\n",
    "    FinalDevice.add_polygon(Etch.get_polygons(), layer = ls['Etch'])\n",
    "    return FinalDevice"
   ]
  },
  {
   "cell_type": "code",
   "execution_count": 7,
   "metadata": {},
   "outputs": [
    {
     "data": {
      "image/png": "[encoded data removed]",
      "text/plain": [
       "<Figure size 640x480 with 1 Axes>"
      ]
     },
     "metadata": {},
     "output_type": "display_data"
    },
    {
     "data": {
      "text/plain": [
       "'20240514-SiRes-12pHsq-v1-calib.gds'"
      ]
     },
     "execution_count": 7,
     "metadata": {},
     "output_type": "execute_result"
    }
   ],
   "source": [
    "Lk_12 = 12e-12 \n",
    "\n",
    "ls = LayerSet()\n",
    "ls.add_layer('Ground', gds_layer=0, color = 'red')\n",
    "ls.add_layer('Metal', gds_layer=1, color = 'blue')\n",
    "CapacitorHorizontalLength12 = 150\n",
    "CapacitorVerticalLength12 = 100\n",
    "CapacitorWidth12 = 5\n",
    "\n",
    "NumberOfBends12 = 14\n",
    "InductorVerticalLength12 = 5\n",
    "InductorHorizontalLength12 = 100\n",
    "InductorEndLength12 = 90\n",
    "InductorTotalLength12 = InductorVerticalLength12*(NumberOfBends12+4) + InductorEndLength12 +InductorHorizontalLength12*NumberOfBends12\n",
    "InductorWidth12 = 0.6\n",
    "TaperWidth12 = 20\n",
    "\n",
    "SpacingC012 = 5\n",
    "SpacingCc12 = 20\n",
    "TaperLength12 = 5\n",
    "\n",
    "CalibrationDevice = calibration_resonator(CapacitorHorizontalLength12, \n",
    "                                            CapacitorVerticalLength12, \n",
    "                                            CapacitorWidth12,\n",
    "                                            NumberOfBends12, \n",
    "                                            InductorVerticalLength12,\n",
    "                                            InductorHorizontalLength12,\n",
    "                                            InductorWidth12,\n",
    "                                            InductorEndLength12,\n",
    "                                            TaperWidth12,\n",
    "                                            TaperLength12,\n",
    "                                            SpacingC012, \n",
    "                                            SpacingCc12)\n",
    "\n",
    "qp(CalibrationDevice)\n",
    "CalibrationDevice.write_gds('20240514-SiRes-12pHsq-v1-calib.gds')"
   ]
  }
 ],
 "metadata": {
  "kernelspec": {
   "display_name": "resonators",
   "language": "python",
   "name": "python3"
  },
  "language_info": {
   "codemirror_mode": {
    "name": "ipython",
    "version": 3
   },
   "file_extension": ".py",
   "mimetype": "text/x-python",
   "name": "python",
   "nbconvert_exporter": "python",
   "pygments_lexer": "ipython3",
   "version": "3.12.2"
  }
 },
 "nbformat": 4,
 "nbformat_minor": 2
}
