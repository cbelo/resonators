{
 "cells": [
  {
   "cell_type": "markdown",
   "metadata": {},
   "source": [
    "Design 4 chips for 4 different Lk (12, 24, 232, 61)pH/sq"
   ]
  },
  {
   "cell_type": "code",
   "execution_count": 2,
   "metadata": {},
   "outputs": [],
   "source": [
    "#run only once!\n",
    "%load_ext autoreload\n",
    "%autoreload 2\n",
    "import os\n",
    "os.chdir(os.path.abspath(os.path.join(os.getcwd(), os.pardir)))"
   ]
  },
  {
   "cell_type": "code",
   "execution_count": 3,
   "metadata": {},
   "outputs": [],
   "source": [
    "import numpy as np\n",
    "from phidl import LayerSet\n",
    "from phidl import quickplot as qp\n",
    "from phidl import Path, CrossSection, Device\n",
    "import phidl.path as pp\n",
    "import phidl.geometry as pg\n",
    "import phidl\n",
    "import matplotlib.pyplot as plt\n",
    "from Bertram_Functions.MyPhidlFunctions import *\n",
    "from Schuster_Resonators.resonator import ChipResonatorsTline\n",
    "from Schuster_Resonators.approx_Schuster import *\n",
    "from CPW.cpw import *"
   ]
  },
  {
   "cell_type": "markdown",
   "metadata": {},
   "source": [
    "# Kinetic inductances definitions"
   ]
  },
  {
   "cell_type": "code",
   "execution_count": 47,
   "metadata": {},
   "outputs": [],
   "source": [
    "Lk_12 = 12e-12 # For SiTUD20\n",
    "Lk_24 = 24e-12 # For SiSC10\n",
    "Lk_61 = 61e-12 # For GeHarry8\n",
    "Lk_232 = 232e-12 # For SiChip5\n",
    "epsilon_r_Si = 11.9\n",
    "epsilon_r_Ge = [15.18, 16, 15.18, 16, 11.9]\n",
    "thickness_subs_Si = 500e-6\n",
    "thickness_subs_Ge = [50e-9, 20e-9, 600e-9, 300e-9, 600e-6]\n"
   ]
  },
  {
   "cell_type": "markdown",
   "metadata": {},
   "source": [
    "# CPW parameters"
   ]
  },
  {
   "cell_type": "code",
   "execution_count": 50,
   "metadata": {},
   "outputs": [
    {
     "name": "stdout",
     "output_type": "stream",
     "text": [
      "Impedance of the feedline is 50.0421104007295 Ohm\n",
      "Impedance of the bondpad is 50.07757801962502 Ohm\n",
      "Frequency of the feedline is 5.542020901728536 GHz\n"
     ]
    }
   ],
   "source": [
    "# 12pH/sq\n",
    "FeedlineWidth12 = 30\n",
    "FeedlineLength12  = 6200\n",
    "FeedlineGap12 = 5\n",
    "FeedlineTaperLength12 =  100\n",
    "BondpadWidth12 =  200\n",
    "BondpadLength12 = 200\n",
    "BondpadGap12 = 200\n",
    "\n",
    "print('Impedance of the feedline is', impedance_CPW(FeedlineWidth12*1e-6, FeedlineGap12*1e-6, epsilon_r_Si, thickness_subs_Si, ind_kin_sq=Lk_12), 'Ohm')\n",
    "print('Impedance of the bondpad is', impedance_CPW(BondpadWidth12*1e-6, BondpadGap12*1e-6, epsilon_r_Si, thickness_subs_Si, ind_kin_sq=Lk_12), 'Ohm')\n",
    "print('Frequency of the feedline is', resonance_freq_CPW(FeedlineWidth12*1e-6, FeedlineGap12*1e-6, epsilon_r_Si, thickness_subs_Si, ind_kin_sq=Lk_12, length_CPW=(FeedlineLength12 + FeedlineTaperLength12 + BondpadLength12)*1e-6)/1e9, 'GHz')"
   ]
  },
  {
   "cell_type": "code",
   "execution_count": 6,
   "metadata": {},
   "outputs": [
    {
     "name": "stdout",
     "output_type": "stream",
     "text": [
      "Impedance of the feedline is 50.06035358042184 Ohm\n",
      "Impedance of the bondpad is 50.0888166242714 Ohm\n",
      "Frequency of the feedline is 5.682366513696933 GHz\n"
     ]
    }
   ],
   "source": [
    "# 24pH/sq\n",
    "FeedlineWidth24 = 50.1\n",
    "FeedlineLength24  = 5700\n",
    "FeedlineGap24 = 5\n",
    "FeedlineTaperLength24 =  100\n",
    "BondpadWidth24 =  230\n",
    "BondpadLength24 = 200\n",
    "BondpadGap24 = 185\n",
    "\n",
    "print('Impedance of the feedline is', impedance_CPW(FeedlineWidth24*1e-6, FeedlineGap24*1e-6, epsilon_r_Si, thickness_subs_Si, ind_kin_sq=Lk_24), 'Ohm')\n",
    "print('Impedance of the bondpad is', impedance_CPW(BondpadWidth24*1e-6, BondpadGap24*1e-6, epsilon_r_Si, thickness_subs_Si, ind_kin_sq=Lk_24), 'Ohm')\n",
    "print('Frequency of the feedline is', resonance_freq_CPW(FeedlineWidth24*1e-6, FeedlineGap24*1e-6, epsilon_r_Si, thickness_subs_Si, ind_kin_sq=Lk_24, length_CPW=(FeedlineLength24 + FeedlineTaperLength24 + BondpadLength24)*1e-6)/1e9, 'GHz')\n"
   ]
  },
  {
   "cell_type": "code",
   "execution_count": 7,
   "metadata": {},
   "outputs": [
    {
     "name": "stdout",
     "output_type": "stream",
     "text": [
      "Impedance of the feedline is 50.08723025799379 Ohm\n",
      "Impedance of the bondpad is 50.05660330252604 Ohm\n",
      "Frequency of the feedline is 4.600296503147544 GHz\n"
     ]
    }
   ],
   "source": [
    "# 61pH/sq on Ge!!\n",
    "FeedlineWidth61 = 87\n",
    "FeedlineLength61  = 5700\n",
    "FeedlineGap61 = 5\n",
    "FeedlineTaperLength61 =  100\n",
    "BondpadWidth61 =  184\n",
    "BondpadLength61 = 100\n",
    "BondpadGap61 = 100\n",
    "\n",
    "print('Impedance of the feedline is', impedance_CPW(FeedlineWidth61*1e-6, FeedlineGap61*1e-6, epsilon_r_Ge, thickness_subs_Ge, ind_kin_sq=Lk_61), 'Ohm')\n",
    "print('Impedance of the bondpad is', impedance_CPW(BondpadWidth61*1e-6, BondpadGap61*1e-6, epsilon_r_Ge, thickness_subs_Ge, ind_kin_sq=Lk_61), 'Ohm')\n",
    "print('Frequency of the feedline is', resonance_freq_CPW(FeedlineWidth61*1e-6, FeedlineGap61*1e-6, epsilon_r_Ge, thickness_subs_Ge, ind_kin_sq=Lk_61, length_CPW=(FeedlineLength61 + FeedlineTaperLength61 + BondpadLength61)*1e-6)/1e9, 'GHz')"
   ]
  },
  {
   "cell_type": "code",
   "execution_count": 8,
   "metadata": {},
   "outputs": [
    {
     "name": "stdout",
     "output_type": "stream",
     "text": [
      "Impedance of the feedline is 50.09872776388761 Ohm\n",
      "Impedance of the bondpad is 52.172154091646235 Ohm\n",
      "Frequency of the feedline is 4.880979474744977 GHz\n"
     ]
    }
   ],
   "source": [
    "# 232pH/sq\n",
    "FeedlineWidth232 = 330\n",
    "FeedlineLength232  = 5700\n",
    "FeedlineGap232 = 5\n",
    "FeedlineTaperLength232 =  100\n",
    "BondpadWidth232 =  450\n",
    "BondpadLength232 = 100\n",
    "BondpadGap232 = 50\n",
    "\n",
    "print('Impedance of the feedline is', impedance_CPW(FeedlineWidth232*1e-6, FeedlineGap232*1e-6, epsilon_r_Si, thickness_subs_Si, ind_kin_sq=Lk_232), 'Ohm')\n",
    "print('Impedance of the bondpad is', impedance_CPW(BondpadWidth232*1e-6, BondpadGap232*1e-6, epsilon_r_Si, thickness_subs_Si, ind_kin_sq=Lk_232), 'Ohm')\n",
    "print('Frequency of the feedline is', resonance_freq_CPW(FeedlineWidth232*1e-6, FeedlineGap232*1e-6, epsilon_r_Si, thickness_subs_Si, ind_kin_sq=Lk_232, length_CPW=(FeedlineLength232 + FeedlineTaperLength232 + BondpadLength232)*1e-6)/1e9, 'GHz')"
   ]
  },
  {
   "cell_type": "markdown",
   "metadata": {},
   "source": [
    "# Resonators list"
   ]
  },
  {
   "cell_type": "code",
   "execution_count": 52,
   "metadata": {},
   "outputs": [
    {
     "name": "stdout",
     "output_type": "stream",
     "text": [
      "Inductor total length is [ 630.  870.  790.  870.  950.  870. 1110.  870. 1270.  870. 1430.  870.]\n",
      "Resonator 1\n",
      " Lg: 13.229763285979159 nH\n",
      " Cg: 37.89856914206288 fF\n",
      " Cc: 0.26205878946577893 fF\n",
      "Resonator 2\n",
      " Lg: 18.26890444121036 nH\n",
      " Cg: 37.89856914206288 fF\n",
      " Cc: 0.26205878946577893 fF\n",
      "Resonator 3\n",
      " Lg: 16.58919072279996 nH\n",
      " Cg: 37.89856914206288 fF\n",
      " Cc: 0.26205878946577893 fF\n",
      "Resonator 4\n",
      " Lg: 18.26890444121036 nH\n",
      " Cg: 37.89856914206288 fF\n",
      " Cc: 0.23550122211569277 fF\n",
      "Resonator 5\n",
      " Lg: 19.948618159620757 nH\n",
      " Cg: 37.89856914206288 fF\n",
      " Cc: 0.26205878946577893 fF\n",
      "Resonator 6\n",
      " Lg: 18.26890444121036 nH\n",
      " Cg: 37.89856914206288 fF\n",
      " Cc: 0.21974756639967397 fF\n",
      "Resonator 7\n",
      " Lg: 23.308045596441556 nH\n",
      " Cg: 37.89856914206288 fF\n",
      " Cc: 0.26205878946577893 fF\n",
      "Resonator 8\n",
      " Lg: 18.26890444121036 nH\n",
      " Cg: 37.89856914206288 fF\n",
      " Cc: 0.26205878946577893 fF\n",
      "Resonator 9\n",
      " Lg: 26.667473033262354 nH\n",
      " Cg: 37.89856914206288 fF\n",
      " Cc: 0.26205878946577893 fF\n",
      "Resonator 10\n",
      " Lg: 18.26890444121036 nH\n",
      " Cg: 37.89856914206288 fF\n",
      " Cc: 0.23550122211569277 fF\n",
      "Resonator 11\n",
      " Lg: 30.026900470083152 nH\n",
      " Cg: 37.89856914206288 fF\n",
      " Cc: 0.26205878946577893 fF\n",
      "Resonator 12\n",
      " Lg: 18.26890444121036 nH\n",
      " Cg: 37.89856914206288 fF\n",
      " Cc: 0.21974756639967397 fF\n",
      "The frequencies are [7.083311461156318, 6.027762375665321, 6.3255715915891795, 6.029860956304436, 5.768407949742021, 6.0311068473755425, 5.336536030014537, 6.027762375665321, 4.989091203291865, 6.029860956304436, 4.701723909058355, 6.0311068473755425]\n"
     ]
    },
    {
     "data": {
      "image/png": "[encoded data removed]",
      "text/plain": [
       "<Figure size 640x480 with 1 Axes>"
      ]
     },
     "metadata": {},
     "output_type": "display_data"
    },
    {
     "data": {
      "text/plain": [
       "'C:\\\\Users\\\\miguelcarrerab\\\\Documents\\\\GitHub\\\\resonators\\\\gds_files\\\\20240422_ResonatorsChips\\\\20240422-12Res-12pHsq.gds'"
      ]
     },
     "execution_count": 52,
     "metadata": {},
     "output_type": "execute_result"
    }
   ],
   "source": [
    "# 12pH/sq\n",
    "#Idea: 12 resonators, 6 on each side of the feedline\n",
    "#The six up have varying inductor length, the six down have varying SpacingCc\n",
    "SeparationTlineResonator12 = [0]*7 + [5,0,10,0,10]\n",
    "NumberOfResonators12 = 12\n",
    "\n",
    "#Resonator parameters\n",
    "CapacitorHorizontalLength12 = np.ones(NumberOfResonators12)*150\n",
    "CapacitorVerticalLength12 = np.ones(NumberOfResonators12)*100\n",
    "CapacitorWidth12 = np.ones(NumberOfResonators12)*5\n",
    "\n",
    "NumberOfBends12 = np.ones(NumberOfResonators12, dtype=int)*[7,10,9,10,11,10,13,10,15,10, 17, 10]\n",
    "InductorVerticalLength12 = np.ones(NumberOfResonators12)*5\n",
    "InductorHorizontalLength12 = np.ones(NumberOfResonators12)*75\n",
    "InductorEndLength12 = 50*np.ones(NumberOfResonators12)\n",
    "InductorTotalLength12 = InductorVerticalLength12*(NumberOfBends12+4) + InductorEndLength12 +InductorHorizontalLength12*NumberOfBends12\n",
    "print('Inductor total length is', InductorTotalLength12)\n",
    "InductorWidth12 = np.ones(NumberOfResonators12)*0.6\n",
    "TaperWidth12 = np.ones(NumberOfResonators12)*20\n",
    "\n",
    "SpacingC012 = np.ones(NumberOfResonators12)*5\n",
    "SpacingCc12 = np.ones(NumberOfResonators12)*[10,10,10,20,10,30,10,5,10,10,10,20]\n",
    "TaperLength12 = np.ones(NumberOfResonators12)*5\n",
    "FinalSpacingBondpads12 = 100\n",
    "\n",
    "freqs = []\n",
    "for i in range(NumberOfResonators12):\n",
    "    print(f'Resonator {i+1}')\n",
    "    # print(f' Impedance: {impedance_Schuster(InductorWidth12[i]*1e-6, CapacitorWidth12[i]*1e-6, (SeparationTlineResonator12[i] + FeedlineGap12 + SpacingCc12[i])*1e-6 , FeedlineWidth12*1e-6,\n",
    "    #                                         CapacitorVerticalLength12[i]*1e-6, SpacingC012[i]*1e-6, \n",
    "    #                                         InductorWidth12[i]*1e-6, InductorTotalLength12[i]*1e-6, Lk_12,\n",
    "    #                                     epsilon_r_Si, thickness_subs_Si)} Ohm')\n",
    "    freqs.append(resonance_freq_Schuster(InductorWidth12[i]*1e-6, CapacitorWidth12[i]*1e-6, (SeparationTlineResonator12[i] + FeedlineGap12 + SpacingCc12[i])*1e-6 , FeedlineWidth12*1e-6,\n",
    "                                            CapacitorVerticalLength12[i]*1e-6, SpacingC012[i]*1e-6,\n",
    "                                            InductorWidth12[i]*1e-6, InductorTotalLength12[i]*1e-6, Lk_12,\n",
    "                                        epsilon_r_Si, thickness_subs_Si)/1e9)                                        \n",
    "    # print(f' Frequency: {resonance_freq_Schuster(InductorWidth12[i]*1e-6, CapacitorWidth12[i]*1e-6, (SeparationTlineResonator12[i] + FeedlineGap12 + SpacingCc12[i])*1e-6 , FeedlineWidth12*1e-6,\n",
    "    #                                         CapacitorVerticalLength12[i]*1e-6, SpacingC012[i]*1e-6, \n",
    "    #                                         InductorWidth12[i]*1e-6, InductorTotalLength12[i]*1e-6, Lk_12,\n",
    "    #                                     epsilon_r_Si, thickness_subs_Si)/1e9} GHz')\n",
    "    # print('')\n",
    "\n",
    "print('The frequencies are', freqs)\n",
    "ChipSize12 = [FeedlineLength12 + 2*BondpadLength12 + 2*FeedlineTaperLength12 + 2*FinalSpacingBondpads12, np.max(InductorTotalLength12) + 20*FeedlineWidth12]\n",
    "\n",
    "c, metal, chip12 = ChipResonatorsTline(ChipSize12, NumberOfResonators12, SeparationTlineResonator12,\n",
    "                        FeedlineWidth12, FeedlineLength12, FeedlineGap12, \n",
    "                        FeedlineTaperLength12, BondpadWidth12, BondpadLength12, BondpadGap12,\n",
    "                        CapacitorHorizontalLength12, CapacitorVerticalLength12, CapacitorWidth12,\n",
    "                        NumberOfBends12, InductorVerticalLength12, InductorHorizontalLength12, InductorWidth12, InductorEndLength12,\n",
    "                        TaperWidth12, TaperLength12, SpacingC012, SpacingCc12,\n",
    "                        FinalSpacingBondpads12)\n",
    "\n",
    "qp(chip12)\n",
    "chip12.write_gds(r\"C:\\Users\\miguelcarrerab\\Documents\\GitHub\\resonators\\gds_files\\20240422_ResonatorsChips\\20240422-12Res-12pHsq.gds\")\n"
   ]
  },
  {
   "cell_type": "code",
   "execution_count": 20,
   "metadata": {},
   "outputs": [
    {
     "name": "stdout",
     "output_type": "stream",
     "text": [
      "Inductor total length is [ 590.  655.  720.  790.  870.  950. 1060. 1190. 1280. 1370. 1475. 1580.]\n",
      "Resonator 1\n",
      " Lg: 12.389906426773958 nH\n",
      " Cg: 37.89856914206288 fF\n",
      " Cc: 0.26205878946577893 fF\n",
      "Resonator 2\n",
      " Lg: 13.754673822982411 nH\n",
      " Cg: 37.89856914206288 fF\n",
      " Cc: 0.26205878946577893 fF\n",
      "Resonator 3\n",
      " Lg: 15.119441219190858 nH\n",
      " Cg: 37.89856914206288 fF\n",
      " Cc: 0.26205878946577893 fF\n",
      "Resonator 4\n",
      " Lg: 16.58919072279996 nH\n",
      " Cg: 37.89856914206288 fF\n",
      " Cc: 0.23550122211569277 fF\n",
      "Resonator 5\n",
      " Lg: 18.26890444121036 nH\n",
      " Cg: 37.89856914206288 fF\n",
      " Cc: 0.26205878946577893 fF\n",
      "Resonator 6\n",
      " Lg: 19.948618159620757 nH\n",
      " Cg: 37.89856914206288 fF\n",
      " Cc: 0.21974756639967397 fF\n",
      "Resonator 7\n",
      " Lg: 22.258224522435057 nH\n",
      " Cg: 37.89856914206288 fF\n",
      " Cc: 0.26205878946577893 fF\n",
      "Resonator 8\n",
      " Lg: 24.987759314851953 nH\n",
      " Cg: 37.89856914206288 fF\n",
      " Cc: 0.26205878946577893 fF\n",
      "Resonator 9\n",
      " Lg: 26.877437248063657 nH\n",
      " Cg: 37.89856914206288 fF\n",
      " Cc: 0.26205878946577893 fF\n",
      "Resonator 10\n",
      " Lg: 28.767115181275358 nH\n",
      " Cg: 37.89856914206288 fF\n",
      " Cc: 0.23550122211569277 fF\n",
      "Resonator 11\n",
      " Lg: 30.971739436689006 nH\n",
      " Cg: 37.89856914206288 fF\n",
      " Cc: 0.26205878946577893 fF\n",
      "Resonator 12\n",
      " Lg: 33.17636369210266 nH\n",
      " Cg: 37.89856914206288 fF\n",
      " Cc: 0.21974756639967397 fF\n",
      "The frequencies are [7.319448547460764, 6.9468388984967175, 6.625894322937605, 6.327773855256213, 6.027762375665321, 5.771608520036366, 5.460936367058534, 5.154051080145642, 4.969565821424548, 4.805243431572008, 4.629451909091609, 4.4754723974100035]\n"
     ]
    },
    {
     "data": {
      "image/png": "[encoded data removed]",
      "text/plain": [
       "<Figure size 640x480 with 1 Axes>"
      ]
     },
     "metadata": {},
     "output_type": "display_data"
    },
    {
     "data": {
      "text/plain": [
       "'C:\\\\Users\\\\miguelcarrerab\\\\Documents\\\\GitHub\\\\resonators\\\\gds_files\\\\20240422_ResonatorsChips\\\\20240422-12Res-12pHsq_v2.gds'"
      ]
     },
     "execution_count": 20,
     "metadata": {},
     "output_type": "execute_result"
    }
   ],
   "source": [
    "# 12pH/sq\n",
    "#Idea: 12 resonators, 6 on each side of the feedline\n",
    "#The six up have varying inductor length, the six down have varying SpacingCc\n",
    "SeparationTlineResonator12 = [0]*7 + [5,0,10,0,10]\n",
    "NumberOfResonators12 = 12\n",
    "\n",
    "#Resonator parameters\n",
    "CapacitorHorizontalLength12 = np.ones(NumberOfResonators12)*150\n",
    "CapacitorVerticalLength12 = np.ones(NumberOfResonators12)*100\n",
    "CapacitorWidth12 = np.ones(NumberOfResonators12)*5\n",
    "\n",
    "NumberOfBends12 = np.ones(NumberOfResonators12, dtype=int)*[8, 9, 10, 9, 10, 11, 11, 12, 13, 12, 13, 14]\n",
    "InductorVerticalLength12 = np.ones(NumberOfResonators12)*5\n",
    "InductorHorizontalLength12 = np.ones(NumberOfResonators12)*[60, 60, 60, 75, 75, 75, 85, 85, 85, 100, 100, 100] \n",
    "InductorEndLength12 = np.ones(NumberOfResonators12)*([50]*7 + [90]*5)\n",
    "InductorTotalLength12 = InductorVerticalLength12*(NumberOfBends12+4) + InductorEndLength12 +InductorHorizontalLength12*NumberOfBends12\n",
    "print('Inductor total length is', InductorTotalLength12)\n",
    "InductorWidth12 = np.ones(NumberOfResonators12)*0.6\n",
    "TaperWidth12 = np.ones(NumberOfResonators12)*20\n",
    "\n",
    "SpacingC012 = np.ones(NumberOfResonators12)*5\n",
    "SpacingCc12 = np.ones(NumberOfResonators12)*[10,10,10,20,10,30,10,5,10,10,10,20]\n",
    "TaperLength12 = np.ones(NumberOfResonators12)*5\n",
    "FinalSpacingBondpads12 = 100\n",
    "\n",
    "freqs = []\n",
    "for i in range(NumberOfResonators12):\n",
    "    print(f'Resonator {i+1}')\n",
    "    # print(f' Impedance: {impedance_Schuster(InductorWidth12[i]*1e-6, CapacitorWidth12[i]*1e-6, (SeparationTlineResonator12[i] + FeedlineGap12 + SpacingCc12[i])*1e-6 , FeedlineWidth12*1e-6,\n",
    "    #                                         CapacitorVerticalLength12[i]*1e-6, SpacingC012[i]*1e-6, \n",
    "    #                                         InductorWidth12[i]*1e-6, InductorTotalLength12[i]*1e-6, Lk_12,\n",
    "    #                                     epsilon_r_Si, thickness_subs_Si)} Ohm')\n",
    "    freqs.append(resonance_freq_Schuster(InductorWidth12[i]*1e-6, CapacitorWidth12[i]*1e-6, (SeparationTlineResonator12[i] + FeedlineGap12 + SpacingCc12[i])*1e-6 , FeedlineWidth12*1e-6,\n",
    "                                            CapacitorVerticalLength12[i]*1e-6, SpacingC012[i]*1e-6,\n",
    "                                            InductorWidth12[i]*1e-6, InductorTotalLength12[i]*1e-6, Lk_12,\n",
    "                                        epsilon_r_Si, thickness_subs_Si)/1e9)                                        \n",
    "    # print(f' Frequency: {resonance_freq_Schuster(InductorWidth12[i]*1e-6, CapacitorWidth12[i]*1e-6, (SeparationTlineResonator12[i] + FeedlineGap12 + SpacingCc12[i])*1e-6 , FeedlineWidth12*1e-6,\n",
    "    #                                         CapacitorVerticalLength12[i]*1e-6, SpacingC012[i]*1e-6, \n",
    "    #                                         InductorWidth12[i]*1e-6, InductorTotalLength12[i]*1e-6, Lk_12,\n",
    "    #                                     epsilon_r_Si, thickness_subs_Si)/1e9} GHz')\n",
    "    # print('')\n",
    "\n",
    "print('The frequencies are', freqs)\n",
    "ChipSize12 = [FeedlineLength12 + 2*BondpadLength12 + 2*FeedlineTaperLength12 + 2*FinalSpacingBondpads12, np.max(InductorTotalLength12) + 20*FeedlineWidth12]\n",
    "\n",
    "c, metal, chip12 = ChipResonatorsTline(ChipSize12, NumberOfResonators12, SeparationTlineResonator12,\n",
    "                        FeedlineWidth12, FeedlineLength12, FeedlineGap12, \n",
    "                        FeedlineTaperLength12, BondpadWidth12, BondpadLength12, BondpadGap12,\n",
    "                        CapacitorHorizontalLength12, CapacitorVerticalLength12, CapacitorWidth12,\n",
    "                        NumberOfBends12, InductorVerticalLength12, InductorHorizontalLength12, InductorWidth12, InductorEndLength12,\n",
    "                        TaperWidth12, TaperLength12, SpacingC012, SpacingCc12,\n",
    "                        FinalSpacingBondpads12)\n",
    "\n",
    "qp(chip12)\n",
    "chip12.write_gds(r\"C:\\Users\\miguelcarrerab\\Documents\\GitHub\\resonators\\gds_files\\20240422_ResonatorsChips\\20240422-12Res-12pHsq_v2.gds\")\n"
   ]
  },
  {
   "cell_type": "markdown",
   "metadata": {},
   "source": [
    "Single resonators for last and first resonators (lowest and highest frequency)"
   ]
  },
  {
   "cell_type": "code",
   "execution_count": 24,
   "metadata": {},
   "outputs": [
    {
     "name": "stdout",
     "output_type": "stream",
     "text": [
      "Inductor total length is [1580.]\n",
      "Resonator 1\n",
      " Lg: 33.17636369210266 nH\n",
      " Cg: 37.89856914206288 fF\n",
      " Cc: 0.21974756639967397 fF\n",
      "The frequencies are [4.4754723974100035]\n"
     ]
    },
    {
     "data": {
      "image/png": "[encoded data removed]",
      "text/plain": [
       "<Figure size 640x480 with 1 Axes>"
      ]
     },
     "metadata": {},
     "output_type": "display_data"
    },
    {
     "data": {
      "text/plain": [
       "'C:\\\\Users\\\\miguelcarrerab\\\\Documents\\\\GitHub\\\\resonators\\\\gds_files\\\\20240422_ResonatorsChips\\\\20240511-FirstRes-12pHsq_v2.gds'"
      ]
     },
     "execution_count": 24,
     "metadata": {},
     "output_type": "execute_result"
    }
   ],
   "source": [
    "# 12pH/sq\n",
    "#Idea: 12 resonators, 6 on each side of the feedline\n",
    "#The six up have varying inductor length, the six down have varying SpacingCc\n",
    "SeparationTlineResonator12 = [10]\n",
    "NumberOfResonators12 = 1\n",
    "\n",
    "#Resonator parameters\n",
    "CapacitorHorizontalLength12 = np.ones(NumberOfResonators12)*150\n",
    "CapacitorVerticalLength12 = np.ones(NumberOfResonators12)*100\n",
    "CapacitorWidth12 = np.ones(NumberOfResonators12)*5\n",
    "\n",
    "NumberOfBends12 = np.ones(NumberOfResonators12, dtype=int)*[14]\n",
    "InductorVerticalLength12 = np.ones(NumberOfResonators12)*5\n",
    "InductorHorizontalLength12 = np.ones(NumberOfResonators12)*[100] \n",
    "InductorEndLength12 = np.ones(NumberOfResonators12)*([90])\n",
    "InductorTotalLength12 = InductorVerticalLength12*(NumberOfBends12+4) + InductorEndLength12 +InductorHorizontalLength12*NumberOfBends12\n",
    "print('Inductor total length is', InductorTotalLength12)\n",
    "InductorWidth12 = np.ones(NumberOfResonators12)*0.6\n",
    "TaperWidth12 = np.ones(NumberOfResonators12)*20\n",
    "\n",
    "SpacingC012 = np.ones(NumberOfResonators12)*5\n",
    "SpacingCc12 = np.ones(NumberOfResonators12)*[20]\n",
    "TaperLength12 = np.ones(NumberOfResonators12)*5\n",
    "FinalSpacingBondpads12 = 100\n",
    "\n",
    "freqs = []\n",
    "for i in range(NumberOfResonators12):\n",
    "    print(f'Resonator {i+1}')\n",
    "    freqs.append(resonance_freq_Schuster(InductorWidth12[i]*1e-6, CapacitorWidth12[i]*1e-6, (SeparationTlineResonator12[i] + FeedlineGap12 + SpacingCc12[i])*1e-6 , FeedlineWidth12*1e-6,\n",
    "                                            CapacitorVerticalLength12[i]*1e-6, SpacingC012[i]*1e-6,\n",
    "                                            InductorWidth12[i]*1e-6, InductorTotalLength12[i]*1e-6, Lk_12,\n",
    "                                        epsilon_r_Si, thickness_subs_Si)/1e9)                                        \n",
    "print('The frequencies are', freqs)\n",
    "FeedlineWidth12 = 30\n",
    "FeedlineLength12  = 500\n",
    "FeedlineGap12 = 5\n",
    "FeedlineTaperLength12 =  100\n",
    "BondpadWidth12 =  200\n",
    "BondpadLength12 = 200\n",
    "BondpadGap12 = 200\n",
    "ChipSize12 = [FeedlineLength12 + 2*BondpadLength12 + 2*FeedlineTaperLength12, np.max(InductorTotalLength12) + 20*FeedlineWidth12]\n",
    "\n",
    "c, metal, chip12 = ChipResonatorsTline(ChipSize12, NumberOfResonators12, SeparationTlineResonator12,\n",
    "                        FeedlineWidth12, FeedlineLength12, FeedlineGap12, \n",
    "                        FeedlineTaperLength12, BondpadWidth12, BondpadLength12, BondpadGap12,\n",
    "                        CapacitorHorizontalLength12, CapacitorVerticalLength12, CapacitorWidth12,\n",
    "                        NumberOfBends12, InductorVerticalLength12, InductorHorizontalLength12, InductorWidth12, InductorEndLength12,\n",
    "                        TaperWidth12, TaperLength12, SpacingC012, SpacingCc12,\n",
    "                        FinalSpacingBondpads12)\n",
    "\n",
    "qp(chip12)\n",
    "chip12.write_gds(r\"C:\\Users\\miguelcarrerab\\Documents\\GitHub\\resonators\\gds_files\\20240422_ResonatorsChips\\20240511-FirstRes-12pHsq_v2.gds\")\n"
   ]
  },
  {
   "cell_type": "markdown",
   "metadata": {},
   "source": [
    "First resonator with higher frequency (v3)"
   ]
  },
  {
   "cell_type": "code",
   "execution_count": 41,
   "metadata": {},
   "outputs": [
    {
     "name": "stdout",
     "output_type": "stream",
     "text": [
      "Inductor total length is [435.]\n",
      "Resonator 1\n",
      " Lg: 9.135461097353812 nH\n",
      " Cg: 37.89856914206288 fF\n",
      " Cc: 0.26205878946577893 fF\n",
      "The frequencies are [8.524072584481166]\n"
     ]
    },
    {
     "data": {
      "image/png": "[encoded data removed]",
      "text/plain": [
       "<Figure size 640x480 with 1 Axes>"
      ]
     },
     "metadata": {},
     "output_type": "display_data"
    },
    {
     "data": {
      "text/plain": [
       "'C:\\\\Users\\\\miguelcarrerab\\\\Documents\\\\GitHub\\\\resonators\\\\gds_files\\\\20240422_ResonatorsChips\\\\20240511-FirstRes-12pHsq_v4.gds'"
      ]
     },
     "execution_count": 41,
     "metadata": {},
     "output_type": "execute_result"
    }
   ],
   "source": [
    "# 12pH/sq first resonator. Making the resonator shorter to increase the frequency\n",
    "SeparationTlineResonator12 = [0]\n",
    "NumberOfResonators12 = 1\n",
    "\n",
    "#Resonator parameters\n",
    "CapacitorHorizontalLength12 = np.ones(NumberOfResonators12)*150\n",
    "CapacitorVerticalLength12 = np.ones(NumberOfResonators12)*100\n",
    "CapacitorWidth12 = np.ones(NumberOfResonators12)*5\n",
    "\n",
    "NumberOfBends12 = np.ones(NumberOfResonators12, dtype=int)*[5]\n",
    "InductorVerticalLength12 = np.ones(NumberOfResonators12)*5\n",
    "InductorHorizontalLength12 = np.ones(NumberOfResonators12)*[66] \n",
    "InductorEndLength12 = np.ones(NumberOfResonators12)*([60])\n",
    "InductorTotalLength12 = InductorVerticalLength12*(NumberOfBends12+4) + InductorEndLength12 +InductorHorizontalLength12*NumberOfBends12\n",
    "print('Inductor total length is', InductorTotalLength12)\n",
    "InductorWidth12 = np.ones(NumberOfResonators12)*0.6\n",
    "TaperWidth12 = np.ones(NumberOfResonators12)*20\n",
    "\n",
    "SpacingC012 = np.ones(NumberOfResonators12)*5\n",
    "SpacingCc12 = np.ones(NumberOfResonators12)*[10]\n",
    "TaperLength12 = np.ones(NumberOfResonators12)*5\n",
    "FinalSpacingBondpads12 = 100\n",
    "\n",
    "freqs = []\n",
    "for i in range(NumberOfResonators12):\n",
    "    print(f'Resonator {i+1}')\n",
    "    freqs.append(resonance_freq_Schuster(InductorWidth12[i]*1e-6, CapacitorWidth12[i]*1e-6, (SeparationTlineResonator12[i] + FeedlineGap12 + SpacingCc12[i])*1e-6 , FeedlineWidth12*1e-6,\n",
    "                                            CapacitorVerticalLength12[i]*1e-6, SpacingC012[i]*1e-6,\n",
    "                                            InductorWidth12[i]*1e-6, InductorTotalLength12[i]*1e-6, Lk_12,\n",
    "                                        epsilon_r_Si, thickness_subs_Si)/1e9)                                        \n",
    "\n",
    "print('The frequencies are', freqs)\n",
    "FeedlineWidth12 = 30\n",
    "FeedlineLength12  = 500\n",
    "FeedlineGap12 = 5\n",
    "FeedlineTaperLength12 =  100\n",
    "BondpadWidth12 =  200\n",
    "BondpadLength12 = 200\n",
    "BondpadGap12 = 200\n",
    "ChipSize12 = [FeedlineLength12 + 2*BondpadLength12 + 2*FeedlineTaperLength12, np.max(InductorTotalLength12) + 20*FeedlineWidth12]\n",
    "\n",
    "c, metal, chip12 = ChipResonatorsTline(ChipSize12, NumberOfResonators12, SeparationTlineResonator12,\n",
    "                        FeedlineWidth12, FeedlineLength12, FeedlineGap12, \n",
    "                        FeedlineTaperLength12, BondpadWidth12, BondpadLength12, BondpadGap12,\n",
    "                        CapacitorHorizontalLength12, CapacitorVerticalLength12, CapacitorWidth12,\n",
    "                        NumberOfBends12, InductorVerticalLength12, InductorHorizontalLength12, InductorWidth12, InductorEndLength12,\n",
    "                        TaperWidth12, TaperLength12, SpacingC012, SpacingCc12,\n",
    "                        FinalSpacingBondpads12)\n",
    "\n",
    "qp(chip12)\n",
    "chip12.write_gds(r\"C:\\Users\\miguelcarrerab\\Documents\\GitHub\\resonators\\gds_files\\20240422_ResonatorsChips\\20240422-FirstRes-12pHsq_v4.gds\")\n"
   ]
  },
  {
   "cell_type": "code",
   "execution_count": 23,
   "metadata": {},
   "outputs": [
    {
     "name": "stdout",
     "output_type": "stream",
     "text": [
      "Inductor total length is [1580.]\n",
      "Resonator 1\n",
      " Lg: 33.17636369210266 nH\n",
      " Cg: 37.89856914206288 fF\n",
      " Cc: 0.21974756639967397 fF\n",
      "The frequencies are [4.4754723974100035]\n"
     ]
    },
    {
     "data": {
      "image/png": "[encoded data removed]",
      "text/plain": [
       "<Figure size 640x480 with 1 Axes>"
      ]
     },
     "metadata": {},
     "output_type": "display_data"
    },
    {
     "data": {
      "text/plain": [
       "'C:\\\\Users\\\\miguelcarrerab\\\\Documents\\\\GitHub\\\\resonators\\\\gds_files\\\\20240422_ResonatorsChips\\\\20240511-LastRes-12pHsq_v2.gds'"
      ]
     },
     "execution_count": 23,
     "metadata": {},
     "output_type": "execute_result"
    }
   ],
   "source": [
    "# Last resonator 12pH/sq, lowest frequency\n",
    "SeparationTlineResonator12 = [10]\n",
    "NumberOfResonators12 = 1\n",
    "\n",
    "#Resonator parameters\n",
    "CapacitorHorizontalLength12 = np.ones(NumberOfResonators12)*150\n",
    "CapacitorVerticalLength12 = np.ones(NumberOfResonators12)*100\n",
    "CapacitorWidth12 = np.ones(NumberOfResonators12)*5\n",
    "\n",
    "NumberOfBends12 = np.ones(NumberOfResonators12, dtype=int)*[14]\n",
    "InductorVerticalLength12 = np.ones(NumberOfResonators12)*5\n",
    "InductorHorizontalLength12 = np.ones(NumberOfResonators12)*[100] \n",
    "InductorEndLength12 = np.ones(NumberOfResonators12)*([90])\n",
    "InductorTotalLength12 = InductorVerticalLength12*(NumberOfBends12+4) + InductorEndLength12 +InductorHorizontalLength12*NumberOfBends12\n",
    "print('Inductor total length is', InductorTotalLength12)\n",
    "InductorWidth12 = np.ones(NumberOfResonators12)*0.6\n",
    "TaperWidth12 = np.ones(NumberOfResonators12)*20\n",
    "\n",
    "SpacingC012 = np.ones(NumberOfResonators12)*5\n",
    "SpacingCc12 = np.ones(NumberOfResonators12)*[20]\n",
    "TaperLength12 = np.ones(NumberOfResonators12)*5\n",
    "FinalSpacingBondpads12 = 100\n",
    "\n",
    "freqs = []\n",
    "for i in range(NumberOfResonators12):\n",
    "    print(f'Resonator {i+1}')\n",
    "    freqs.append(resonance_freq_Schuster(InductorWidth12[i]*1e-6, CapacitorWidth12[i]*1e-6, (SeparationTlineResonator12[i] + FeedlineGap12 + SpacingCc12[i])*1e-6 , FeedlineWidth12*1e-6,\n",
    "                                            CapacitorVerticalLength12[i]*1e-6, SpacingC012[i]*1e-6,\n",
    "                                            InductorWidth12[i]*1e-6, InductorTotalLength12[i]*1e-6, Lk_12,\n",
    "                                        epsilon_r_Si, thickness_subs_Si)/1e9)                                        \n",
    "\n",
    "\n",
    "print('The frequencies are', freqs)\n",
    "FeedlineWidth12 = 30\n",
    "FeedlineLength12  = 500\n",
    "FeedlineGap12 = 5\n",
    "FeedlineTaperLength12 =  100\n",
    "BondpadWidth12 =  200\n",
    "BondpadLength12 = 200\n",
    "BondpadGap12 = 200\n",
    "ChipSize12 = [FeedlineLength12 + 2*BondpadLength12 + 2*FeedlineTaperLength12, 1300]\n",
    "\n",
    "c, metal, chip12 = ChipResonatorsTline(ChipSize12, NumberOfResonators12, SeparationTlineResonator12,\n",
    "                        FeedlineWidth12, FeedlineLength12, FeedlineGap12, \n",
    "                        FeedlineTaperLength12, BondpadWidth12, BondpadLength12, BondpadGap12,\n",
    "                        CapacitorHorizontalLength12, CapacitorVerticalLength12, CapacitorWidth12,\n",
    "                        NumberOfBends12, InductorVerticalLength12, InductorHorizontalLength12, InductorWidth12, InductorEndLength12,\n",
    "                        TaperWidth12, TaperLength12, SpacingC012, SpacingCc12,\n",
    "                        FinalSpacingBondpads12)\n",
    "\n",
    "qp(chip12)\n",
    "chip12.write_gds(r\"C:\\Users\\miguelcarrerab\\Documents\\GitHub\\resonators\\gds_files\\20240422_ResonatorsChips\\20240422-LastRes-12pHsq_v2.gds\")\n"
   ]
  },
  {
   "cell_type": "markdown",
   "metadata": {},
   "source": [
    "### v3 with larger frequency span (Fab version: rename)\n",
    "\n"
   ]
  },
  {
   "cell_type": "code",
   "execution_count": 86,
   "metadata": {},
   "outputs": [
    {
     "name": "stdout",
     "output_type": "stream",
     "text": [
      "Resonator 1\n",
      " Lg: 9.135461097353812 nH\n",
      " Cg: 37.89856914206288 fF\n",
      " Cc: 0.26205878946577893 fF\n",
      "Resonator 2\n",
      " Lg: 10.017310799519272 nH\n",
      " Cg: 37.89856914206288 fF\n",
      " Cc: 0.26205878946577893 fF\n",
      "Resonator 3\n",
      " Lg: 11.02513903056551 nH\n",
      " Cg: 37.89856914206288 fF\n",
      " Cc: 0.26205878946577893 fF\n",
      "Resonator 4\n",
      " Lg: 12.032967261611748 nH\n",
      " Cg: 37.89856914206288 fF\n",
      " Cc: 0.23550122211569277 fF\n",
      "Resonator 5\n",
      " Lg: 13.229763285979159 nH\n",
      " Cg: 37.89856914206288 fF\n",
      " Cc: 0.26205878946577893 fF\n",
      "Resonator 6\n",
      " Lg: 14.909477004389561 nH\n",
      " Cg: 37.89856914206288 fF\n",
      " Cc: 0.21974756639967397 fF\n",
      "Resonator 7\n",
      " Lg: 16.58919072279996 nH\n",
      " Cg: 37.89856914206288 fF\n",
      " Cc: 0.26205878946577893 fF\n",
      "Resonator 8\n",
      " Lg: 18.75182213525335 nH\n",
      " Cg: 37.89856914206288 fF\n",
      " Cc: 0.20435090905093617 fF\n",
      "Resonator 9\n",
      " Lg: 21.20840344842856 nH\n",
      " Cg: 37.89856914206288 fF\n",
      " Cc: 0.26205878946577893 fF\n",
      "Resonator 10\n",
      " Lg: 24.25288456304741 nH\n",
      " Cg: 37.89856914206288 fF\n",
      " Cc: 0.24668362928724064 fF\n",
      "Resonator 11\n",
      " Lg: 28.767115181275358 nH\n",
      " Cg: 37.89856914206288 fF\n",
      " Cc: 0.26205878946577893 fF\n",
      "Resonator 12\n",
      " Lg: 33.17636369210266 nH\n",
      " Cg: 37.89856914206288 fF\n",
      " Cc: 0.21974756639967397 fF\n",
      "Inductor total length is [ 435.  477.  525.  573.  630.  710.  790.  893. 1010. 1155. 1370. 1580.]\n",
      "The frequencies are [8.524072584481166, 8.140232347769352, 7.7592605978126326, 7.42980100916603, 7.083311461156318, 6.676088264344437, 6.3255715915891795, 5.954143048829514, 5.594462759572383, 5.232607787979489, 4.803571056221266, 4.4754723974100035]\n"
     ]
    },
    {
     "data": {
      "image/png": "[encoded data removed]",
      "text/plain": [
       "<Figure size 640x480 with 1 Axes>"
      ]
     },
     "metadata": {},
     "output_type": "display_data"
    },
    {
     "data": {
      "text/plain": [
       "'C:\\\\Users\\\\miguelcarrerab\\\\Documents\\\\GitHub\\\\resonators\\\\gds_files\\\\20240422_ResonatorsChips\\\\20240422-12Res-12pHsq-0p6IW_v0.gds'"
      ]
     },
     "execution_count": 86,
     "metadata": {},
     "output_type": "execute_result"
    }
   ],
   "source": [
    "# We take as reference the first (v3) and last resonator (v2) and put resonators in between\n",
    "# Fabrication version: We call it v0\n",
    "\n",
    "# 12pH/sq\n",
    "#Idea: 12 resonators, 6 on each side of the feedline\n",
    "#The six up have varying inductor length, the six down have varying SpacingCc\n",
    "SeparationTlineResonator12 = [0]*7 + [5,0,10,0,10]\n",
    "NumberOfResonators12 = 12\n",
    "\n",
    "#Resonator parameters\n",
    "CapacitorHorizontalLength12 = np.ones(NumberOfResonators12)*150\n",
    "CapacitorVerticalLength12 = np.ones(NumberOfResonators12)*100\n",
    "CapacitorWidth12 = np.ones(NumberOfResonators12)*5\n",
    "\n",
    "NumberOfBends12 = np.ones(NumberOfResonators12, dtype=int)*[5, 6, 7, 6, 7, 8, 9, 9, 10, 11, 12, 14]\n",
    "InductorVerticalLength12 = np.ones(NumberOfResonators12)*5\n",
    "InductorHorizontalLength12 = np.ones(NumberOfResonators12)*[66, 62, 60, 78, 75, 75, 75, 82, 85, 90, 100, 100] \n",
    "InductorEndLength12 = np.ones(NumberOfResonators12)*([60] + [55,50,55] + [50]*3 + [90]*5)\n",
    "InductorTotalLength12 = InductorVerticalLength12*(NumberOfBends12+4) + InductorEndLength12 +InductorHorizontalLength12*NumberOfBends12\n",
    "InductorWidth12 = np.ones(NumberOfResonators12)*0.6\n",
    "TaperWidth12 = np.ones(NumberOfResonators12)*20\n",
    "\n",
    "SpacingC012 = np.ones(NumberOfResonators12)*5\n",
    "SpacingCc12 = np.ones(NumberOfResonators12)*[10,10,10,20,10,30,10,40,10,5,10,20]\n",
    "TaperLength12 = np.ones(NumberOfResonators12)*5\n",
    "FinalSpacingBondpads12 = 100\n",
    "\n",
    "freqs = []\n",
    "for i in range(NumberOfResonators12):\n",
    "    print(f'Resonator {i+1}')\n",
    "    freqs.append(resonance_freq_Schuster(InductorWidth12[i]*1e-6, CapacitorWidth12[i]*1e-6, (SeparationTlineResonator12[i] + FeedlineGap12 + SpacingCc12[i])*1e-6 , FeedlineWidth12*1e-6,\n",
    "                                            CapacitorVerticalLength12[i]*1e-6, SpacingC012[i]*1e-6,\n",
    "                                            InductorWidth12[i]*1e-6, InductorTotalLength12[i]*1e-6, Lk_12,\n",
    "                                        epsilon_r_Si, thickness_subs_Si)/1e9)                                        \n",
    "\n",
    "print('Inductor total length is', InductorTotalLength12)\n",
    "print('The frequencies are', freqs)\n",
    "ChipSize12 = [FeedlineLength12 + 2*BondpadLength12 + 2*FeedlineTaperLength12 + 2*FinalSpacingBondpads12, 2000]\n",
    "\n",
    "c, metal, chip12 = ChipResonatorsTline(ChipSize12, NumberOfResonators12, SeparationTlineResonator12,\n",
    "                        FeedlineWidth12, FeedlineLength12, FeedlineGap12, \n",
    "                        FeedlineTaperLength12, BondpadWidth12, BondpadLength12, BondpadGap12,\n",
    "                        CapacitorHorizontalLength12, CapacitorVerticalLength12, CapacitorWidth12,\n",
    "                        NumberOfBends12, InductorVerticalLength12, InductorHorizontalLength12, InductorWidth12, InductorEndLength12,\n",
    "                        TaperWidth12, TaperLength12, SpacingC012, SpacingCc12,\n",
    "                        FinalSpacingBondpads12)\n",
    "\n",
    "qp(chip12)\n",
    "chip12.write_gds(r\"C:\\Users\\miguelcarrerab\\Documents\\GitHub\\resonators\\gds_files\\20240422_ResonatorsChips\\20240422-12Res-12pHsq-0p6IW_v0.gds\")\n"
   ]
  },
  {
   "cell_type": "code",
   "execution_count": 71,
   "metadata": {},
   "outputs": [
    {
     "data": {
      "text/plain": [
       "17.0"
      ]
     },
     "execution_count": 71,
     "metadata": {},
     "output_type": "execute_result"
    }
   ],
   "source": [
    "6+6+1.5+1+1+1.5"
   ]
  },
  {
   "cell_type": "code",
   "execution_count": 52,
   "metadata": {},
   "outputs": [
    {
     "data": {
      "text/plain": [
       "array([8.52407258, 8.15601802, 7.78796346, 7.4199089 , 7.05185433,\n",
       "       6.68379977, 6.31574521, 5.94769065, 5.57963608, 5.21158152,\n",
       "       4.84352696, 4.4754724 ])"
      ]
     },
     "execution_count": 52,
     "metadata": {},
     "output_type": "execute_result"
    }
   ],
   "source": [
    "np.linspace(freqs[0], freqs[-1], 12)"
   ]
  },
  {
   "cell_type": "code",
   "execution_count": 61,
   "metadata": {},
   "outputs": [
    {
     "name": "stdout",
     "output_type": "stream",
     "text": [
      "Inductor total length is [115. 145. 130. 145. 160. 145. 190. 145. 220. 145. 250. 145.]\n",
      "Resonator 1\n",
      " Lg: 44.58327289037888 nH\n",
      " Cg: 11.369570742618864 fF\n",
      " Cc: 0.27663352059420543 fF\n",
      "Resonator 2\n",
      " Lg: 56.21316553478278 nH\n",
      " Cg: 11.369570742618864 fF\n",
      " Cc: 0.27663352059420543 fF\n",
      "Resonator 3\n",
      " Lg: 50.39821921258083 nH\n",
      " Cg: 11.369570742618864 fF\n",
      " Cc: 0.27663352059420543 fF\n",
      "Resonator 4\n",
      " Lg: 56.21316553478278 nH\n",
      " Cg: 11.369570742618864 fF\n",
      " Cc: 0.2525404356655893 fF\n",
      "Resonator 5\n",
      " Lg: 62.02811185698472 nH\n",
      " Cg: 11.369570742618864 fF\n",
      " Cc: 0.27663352059420543 fF\n",
      "Resonator 6\n",
      " Lg: 56.21316553478278 nH\n",
      " Cg: 11.369570742618864 fF\n",
      " Cc: 0.23817898982213045 fF\n",
      "Resonator 7\n",
      " Lg: 73.65800450138863 nH\n",
      " Cg: 11.369570742618864 fF\n",
      " Cc: 0.27663352059420543 fF\n",
      "Resonator 8\n",
      " Lg: 56.21316553478278 nH\n",
      " Cg: 11.369570742618864 fF\n",
      " Cc: 0.27663352059420543 fF\n",
      "Resonator 9\n",
      " Lg: 85.28789714579253 nH\n",
      " Cg: 11.369570742618864 fF\n",
      " Cc: 0.27663352059420543 fF\n",
      "Resonator 10\n",
      " Lg: 56.21316553478278 nH\n",
      " Cg: 11.369570742618864 fF\n",
      " Cc: 0.2525404356655893 fF\n",
      "Resonator 11\n",
      " Lg: 96.91778979019644 nH\n",
      " Cg: 11.369570742618864 fF\n",
      " Cc: 0.27663352059420543 fF\n",
      "Resonator 12\n",
      " Lg: 56.21316553478278 nH\n",
      " Cg: 11.369570742618864 fF\n",
      " Cc: 0.23817898982213045 fF\n",
      "The frequencies are [6.984606705784519, 6.220265311634581, 6.569318746613812, 6.226709398657856, 5.921526122310031, 6.230560141019891, 5.433978999122703, 6.220265311634581, 5.049916845568629, 6.226709398657856, 4.737248636126463, 6.230560141019891]\n"
     ]
    },
    {
     "data": {
      "image/png": "[encoded data removed]",
      "text/plain": [
       "<Figure size 640x480 with 1 Axes>"
      ]
     },
     "metadata": {},
     "output_type": "display_data"
    },
    {
     "data": {
      "text/plain": [
       "'C:\\\\Users\\\\miguelcarrerab\\\\Documents\\\\GitHub\\\\resonators\\\\gds_files\\\\20240422_ResonatorsChips\\\\20240422-12Res-232pHsq.gds'"
      ]
     },
     "execution_count": 61,
     "metadata": {},
     "output_type": "execute_result"
    }
   ],
   "source": [
    "# 232pH/sq\n",
    "#Idea: 12 resonators, 6 on each side of the feedline\n",
    "#The six up have varying inductor length, the six down have varying SpacingCc\n",
    "SeparationTlineResonator232 = [0]*7 + [5,0,10,0,10]\n",
    "NumberOfResonators232 = 12\n",
    "\n",
    "#Resonator parameters\n",
    "CapacitorHorizontalLength232 = np.ones(NumberOfResonators232)*150\n",
    "CapacitorVerticalLength232 = np.ones(NumberOfResonators232)*30\n",
    "CapacitorWidth232 = np.ones(NumberOfResonators232)*5\n",
    "\n",
    "NumberOfBends232 = np.ones(NumberOfResonators232, dtype=int)*[8,10,9,10,11,10,13,10,15,10, 17, 10]-np.ones(NumberOfResonators232, dtype=int)*3\n",
    "InductorVerticalLength232 = np.ones(NumberOfResonators232)*5\n",
    "InductorHorizontalLength232 = np.ones(NumberOfResonators232)*10\n",
    "InductorEndLength232 = 20*np.ones(NumberOfResonators232)\n",
    "InductorTotalLength232 = InductorVerticalLength232*(NumberOfBends232+4) + InductorEndLength232 +InductorHorizontalLength232*NumberOfBends232\n",
    "print('Inductor total length is', InductorTotalLength232)\n",
    "InductorWidth232 = np.ones(NumberOfResonators232)*0.6\n",
    "TaperWidth232 = np.ones(NumberOfResonators232)*20\n",
    "\n",
    "SpacingC0232 = np.ones(NumberOfResonators232)*5\n",
    "SpacingCc232 = np.ones(NumberOfResonators232)*[10,10,10,20,10,30,10,5,10,10,10,20]\n",
    "TaperLength232 = np.ones(NumberOfResonators232)*5\n",
    "FinalSpacingBondpads232 = 100\n",
    "\n",
    "freqs = []\n",
    "\n",
    "for i in range(NumberOfResonators232):\n",
    "    print(f'Resonator {i+1}')\n",
    "    # print(f' Impedance: {impedance_Schuster(InductorWidth232[i]*1e-6, CapacitorWidth232[i]*1e-6, (SeparationTlineResonator232[i] + FeedlineGap232 + SpacingCc232[i])*1e-6 , FeedlineWidth232*1e-6,\n",
    "    #                                         CapacitorVerticalLength232[i]*1e-6, SpacingC0232[i]*1e-6, \n",
    "    #                                         InductorWidth232[i]*1e-6, InductorTotalLength232[i]*1e-6, Lk_232,\n",
    "    #                                     epsilon_r_Si, thickness_subs_Si)} Ohm')\n",
    "    freqs.append(resonance_freq_Schuster(InductorWidth232[i]*1e-6, CapacitorWidth232[i]*1e-6, (SeparationTlineResonator232[i] + FeedlineGap232 + SpacingCc232[i])*1e-6 , FeedlineWidth232*1e-6,\n",
    "                                            CapacitorVerticalLength232[i]*1e-6, SpacingC0232[i]*1e-6,\n",
    "                                            InductorWidth232[i]*1e-6, InductorTotalLength232[i]*1e-6, Lk_232,\n",
    "                                        epsilon_r_Si, thickness_subs_Si)/1e9)                                        \n",
    "    # print(f' Frequency: {resonance_freq_Schuster(InductorWidth232[i]*1e-6, CapacitorWidth232[i]*1e-6, (SeparationTlineResonator232[i] + FeedlineGap232 + SpacingCc232[i])*1e-6 , FeedlineWidth232*1e-6,\n",
    "    #                                         CapacitorVerticalLength232[i]*1e-6, SpacingC0232[i]*1e-6, \n",
    "    #                                         InductorWidth232[i]*1e-6, InductorTotalLength232[i]*1e-6, Lk_232,\n",
    "    #                                     epsilon_r_Si, thickness_subs_Si)/1e9} GHz')\n",
    "    # print('')\n",
    "\n",
    "print('The frequencies are', freqs)\n",
    "\n",
    "ChipSize232 = [FeedlineLength232 + 2*BondpadLength232 + 2*FeedlineTaperLength232 + 2*FinalSpacingBondpads232, np.max(InductorTotalLength232) + 20*FeedlineWidth232]\n",
    "\n",
    "c, metal, chip232 = ChipResonatorsTline(ChipSize232, NumberOfResonators232, SeparationTlineResonator232,\n",
    "                        FeedlineWidth232, FeedlineLength232, FeedlineGap232, \n",
    "                        FeedlineTaperLength232, BondpadWidth232, BondpadLength232, BondpadGap232,\n",
    "                        CapacitorHorizontalLength232, CapacitorVerticalLength232, CapacitorWidth232,\n",
    "                        NumberOfBends232, InductorVerticalLength232, InductorHorizontalLength232, InductorWidth232, InductorEndLength232,\n",
    "                        TaperWidth232, TaperLength232, SpacingC0232, SpacingCc232,\n",
    "                        FinalSpacingBondpads232)\n",
    "\n",
    "qp(chip232)\n",
    "chip232.write_gds(r\"C:\\Users\\miguelcarrerab\\Documents\\GitHub\\resonators\\gds_files\\20240422_ResonatorsChips\\20240422-12Res-232pHsq.gds\")\n"
   ]
  }
 ],
 "metadata": {
  "kernelspec": {
   "display_name": "resonators",
   "language": "python",
   "name": "python3"
  },
  "language_info": {
   "codemirror_mode": {
    "name": "ipython",
    "version": 3
   },
   "file_extension": ".py",
   "mimetype": "text/x-python",
   "name": "python",
   "nbconvert_exporter": "python",
   "pygments_lexer": "ipython3",
   "version": "3.12.2"
  }
 },
 "nbformat": 4,
 "nbformat_minor": 2
}
