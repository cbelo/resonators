{
 "cells": [
  {
   "cell_type": "markdown",
   "metadata": {},
   "source": [
    "Design 4 chips for 4 different Lk (12, 24, 232, 61)pH/sq"
   ]
  },
  {
   "cell_type": "code",
   "execution_count": 1,
   "metadata": {},
   "outputs": [],
   "source": [
    "#run only once!\n",
    "%load_ext autoreload\n",
    "%autoreload 2\n",
    "import os\n",
    "os.chdir(os.path.abspath(os.path.join(os.getcwd(), os.pardir)))"
   ]
  },
  {
   "cell_type": "code",
   "execution_count": 2,
   "metadata": {},
   "outputs": [],
   "source": [
    "import numpy as np\n",
    "from phidl import LayerSet\n",
    "from phidl import quickplot as qp\n",
    "from phidl import Path, CrossSection, Device\n",
    "import phidl.path as pp\n",
    "import phidl.geometry as pg\n",
    "import phidl\n",
    "import matplotlib.pyplot as plt\n",
    "from Bertram_Functions.MyPhidlFunctions import *\n",
    "from Schuster_Resonators.resonator import ChipResonatorsTline\n",
    "from Schuster_Resonators.approx_Schuster import *\n",
    "from CPW.cpw import *"
   ]
  },
  {
   "cell_type": "markdown",
   "metadata": {},
   "source": [
    "# Kinetic inductances definitions"
   ]
  },
  {
   "cell_type": "code",
   "execution_count": 3,
   "metadata": {},
   "outputs": [],
   "source": [
    "Lk_12 = 12e-12 # For SiTUD20\n",
    "Lk_24 = 24e-12 # For SiSC10\n",
    "Lk_61 = 61e-12 # For GeHarry8\n",
    "Lk_232 = 232e-12 # For SiChip5\n",
    "epsilon_r_Si = 11.9\n",
    "epsilon_r_Ge = [15.18, 16, 15.18, 16, 11.9]\n",
    "thickness_subs_Si = 500e-6\n",
    "thickness_subs_Ge = [50e-9, 20e-9, 600e-9, 300e-9, 600e-6]\n"
   ]
  },
  {
   "cell_type": "markdown",
   "metadata": {},
   "source": [
    "# CPW parameters"
   ]
  },
  {
   "cell_type": "code",
   "execution_count": 4,
   "metadata": {},
   "outputs": [
    {
     "name": "stdout",
     "output_type": "stream",
     "text": [
      "Impedance of the feedline is 50.0421104007295 Ohm\n",
      "Impedance of the bondpad is 50.07757801962502 Ohm\n",
      "Frequency of the feedline is 6.003855976872581 GHz\n"
     ]
    }
   ],
   "source": [
    "# 12pH/sq\n",
    "FeedlineWidth12 = 30\n",
    "FeedlineLength12  = 5700\n",
    "FeedlineGap12 = 5\n",
    "FeedlineTaperLength12 =  100\n",
    "BondpadWidth12 =  200\n",
    "BondpadLength12 = 200\n",
    "BondpadGap12 = 200\n",
    "\n",
    "print('Impedance of the feedline is', impedance_CPW(FeedlineWidth12*1e-6, FeedlineGap12*1e-6, epsilon_r_Si, thickness_subs_Si, ind_kin_sq=Lk_12), 'Ohm')\n",
    "print('Impedance of the bondpad is', impedance_CPW(BondpadWidth12*1e-6, BondpadGap12*1e-6, epsilon_r_Si, thickness_subs_Si, ind_kin_sq=Lk_12), 'Ohm')\n",
    "print('Frequency of the feedline is', resonance_freq_CPW(FeedlineWidth12*1e-6, FeedlineGap12*1e-6, epsilon_r_Si, thickness_subs_Si, ind_kin_sq=Lk_12, length_CPW=(FeedlineLength12 + FeedlineTaperLength12 + BondpadLength12)*1e-6)/1e9, 'GHz')"
   ]
  },
  {
   "cell_type": "code",
   "execution_count": 5,
   "metadata": {},
   "outputs": [
    {
     "name": "stdout",
     "output_type": "stream",
     "text": [
      "Impedance of the feedline is 50.06035358042184 Ohm\n",
      "Impedance of the bondpad is 50.0888166242714 Ohm\n",
      "Frequency of the feedline is 5.682366513696933 GHz\n"
     ]
    }
   ],
   "source": [
    "# 24pH/sq\n",
    "FeedlineWidth24 = 50.1\n",
    "FeedlineLength24  = 5700\n",
    "FeedlineGap24 = 5\n",
    "FeedlineTaperLength24 =  100\n",
    "BondpadWidth24 =  230\n",
    "BondpadLength24 = 200\n",
    "BondpadGap24 = 185\n",
    "\n",
    "print('Impedance of the feedline is', impedance_CPW(FeedlineWidth24*1e-6, FeedlineGap24*1e-6, epsilon_r_Si, thickness_subs_Si, ind_kin_sq=Lk_24), 'Ohm')\n",
    "print('Impedance of the bondpad is', impedance_CPW(BondpadWidth24*1e-6, BondpadGap24*1e-6, epsilon_r_Si, thickness_subs_Si, ind_kin_sq=Lk_24), 'Ohm')\n",
    "print('Frequency of the feedline is', resonance_freq_CPW(FeedlineWidth24*1e-6, FeedlineGap24*1e-6, epsilon_r_Si, thickness_subs_Si, ind_kin_sq=Lk_24, length_CPW=(FeedlineLength24 + FeedlineTaperLength24 + BondpadLength24)*1e-6)/1e9, 'GHz')\n"
   ]
  },
  {
   "cell_type": "code",
   "execution_count": 6,
   "metadata": {},
   "outputs": [
    {
     "name": "stdout",
     "output_type": "stream",
     "text": [
      "Impedance of the feedline is 50.08723025799379 Ohm\n",
      "Impedance of the bondpad is 50.05660330252604 Ohm\n",
      "Frequency of the feedline is 4.600296503147544 GHz\n"
     ]
    }
   ],
   "source": [
    "# 61pH/sq on Ge!!\n",
    "FeedlineWidth61 = 87\n",
    "FeedlineLength61  = 5700\n",
    "FeedlineGap61 = 5\n",
    "FeedlineTaperLength61 =  100\n",
    "BondpadWidth61 =  184\n",
    "BondpadLength61 = 100\n",
    "BondpadGap61 = 100\n",
    "\n",
    "print('Impedance of the feedline is', impedance_CPW(FeedlineWidth61*1e-6, FeedlineGap61*1e-6, epsilon_r_Ge, thickness_subs_Ge, ind_kin_sq=Lk_61), 'Ohm')\n",
    "print('Impedance of the bondpad is', impedance_CPW(BondpadWidth61*1e-6, BondpadGap61*1e-6, epsilon_r_Ge, thickness_subs_Ge, ind_kin_sq=Lk_61), 'Ohm')\n",
    "print('Frequency of the feedline is', resonance_freq_CPW(FeedlineWidth61*1e-6, FeedlineGap61*1e-6, epsilon_r_Ge, thickness_subs_Ge, ind_kin_sq=Lk_61, length_CPW=(FeedlineLength61 + FeedlineTaperLength61 + BondpadLength61)*1e-6)/1e9, 'GHz')"
   ]
  },
  {
   "cell_type": "code",
   "execution_count": 7,
   "metadata": {},
   "outputs": [
    {
     "name": "stdout",
     "output_type": "stream",
     "text": [
      "Impedance of the feedline is 50.09872776388761 Ohm\n",
      "Impedance of the bondpad is 52.172154091646235 Ohm\n",
      "Frequency of the feedline is 4.880979474744977 GHz\n"
     ]
    }
   ],
   "source": [
    "# 232pH/sq\n",
    "FeedlineWidth232 = 330\n",
    "FeedlineLength232  = 5700\n",
    "FeedlineGap232 = 5\n",
    "FeedlineTaperLength232 =  100\n",
    "BondpadWidth232 =  450\n",
    "BondpadLength232 = 100\n",
    "BondpadGap232 = 50\n",
    "\n",
    "print('Impedance of the feedline is', impedance_CPW(FeedlineWidth232*1e-6, FeedlineGap232*1e-6, epsilon_r_Si, thickness_subs_Si, ind_kin_sq=Lk_232), 'Ohm')\n",
    "print('Impedance of the bondpad is', impedance_CPW(BondpadWidth232*1e-6, BondpadGap232*1e-6, epsilon_r_Si, thickness_subs_Si, ind_kin_sq=Lk_232), 'Ohm')\n",
    "print('Frequency of the feedline is', resonance_freq_CPW(FeedlineWidth232*1e-6, FeedlineGap232*1e-6, epsilon_r_Si, thickness_subs_Si, ind_kin_sq=Lk_232, length_CPW=(FeedlineLength232 + FeedlineTaperLength232 + BondpadLength232)*1e-6)/1e9, 'GHz')"
   ]
  },
  {
   "cell_type": "markdown",
   "metadata": {},
   "source": [
    "# Resonators list"
   ]
  },
  {
   "cell_type": "code",
   "execution_count": 10,
   "metadata": {},
   "outputs": [
    {
     "name": "stdout",
     "output_type": "stream",
     "text": [
      "Resonator 1\n",
      " Impedance: 714.0362481936509 Ohm\n",
      " Lg: 41.07037436939705 nH\n",
      " Cg: 78.86931149424605 fF\n",
      " Cc: 1.684879954138959 fF\n",
      " Frequency: 2.767016375957114 GHz\n",
      "\n",
      "Resonator 2\n",
      " Impedance: 714.0362481936509 Ohm\n",
      " Lg: 41.07037436939705 nH\n",
      " Cg: 78.86931149424605 fF\n",
      " Cc: 1.684879954138959 fF\n",
      " Frequency: 2.767016375957114 GHz\n",
      "\n"
     ]
    },
    {
     "data": {
      "image/png": "[encoded data removed]",
      "text/plain": [
       "<Figure size 640x480 with 1 Axes>"
      ]
     },
     "metadata": {},
     "output_type": "display_data"
    },
    {
     "data": {
      "text/plain": [
       "'C:\\\\Users\\\\miguelcarrerab\\\\Documents\\\\GitHub\\\\resonators\\\\gds_files\\\\20240422_ResonatorsChips\\\\test.gds'"
      ]
     },
     "execution_count": 10,
     "metadata": {},
     "output_type": "execute_result"
    }
   ],
   "source": [
    "# 12pH/sq\n",
    "SeparationTlineResonator12 = 0\n",
    "NumberOfResonators12 = 2\n",
    "\n",
    "#Resonator parameters\n",
    "CapacitorHorizontalLength12 = np.ones(NumberOfResonators12)*120\n",
    "CapacitorVerticalLength12 = np.ones(NumberOfResonators12)*200\n",
    "CapacitorWidth12 = np.ones(NumberOfResonators12)*15\n",
    "\n",
    "NumberOfBends12 = np.ones(NumberOfResonators12, dtype=int)*50\n",
    "InductorVerticalLength12 = np.ones(NumberOfResonators12)*11\n",
    "InductorHorizontalLength12 = np.ones(NumberOfResonators12)*50\n",
    "InductorEndLength12 = 50*np.ones(NumberOfResonators12)\n",
    "InductorTotalLength12 = InductorVerticalLength12*(NumberOfBends12+4) + InductorEndLength12 +InductorHorizontalLength12*NumberOfBends12\n",
    "InductorWidth12 = np.ones(NumberOfResonators12)*1\n",
    "TaperWidth12 = np.ones(NumberOfResonators12)*20\n",
    "\n",
    "SpacingC012 = np.ones(NumberOfResonators12)*10\n",
    "SpacingCc12 = np.ones(NumberOfResonators12)*(-4)\n",
    "TaperLength12 = np.ones(NumberOfResonators12)*5\n",
    "\n",
    "for i in range(NumberOfResonators12):\n",
    "    print(f'Resonator {i+1}')\n",
    "    print(f' Impedance: {impedance_Schuster(InductorWidth12[i]*1e-6, CapacitorWidth12[i]*1e-6, (SeparationTlineResonator12 + FeedlineGap12 + SpacingCc12[i])*1e-6 , FeedlineWidth12*1e-6,\n",
    "                                            CapacitorVerticalLength12[i]*1e-6, SpacingC012[i]*1e-6, \n",
    "                                            InductorWidth12[i]*1e-6, InductorTotalLength12[i]*1e-6, Lk_12,\n",
    "                                        epsilon_r_Si, thickness_subs_Si)} Ohm')\n",
    "                                            \n",
    "    print(f' Frequency: {resonance_freq_Schuster(InductorWidth12[i]*1e-6, CapacitorWidth12[i]*1e-6, (SeparationTlineResonator12 + FeedlineGap12 + SpacingCc12[i])*1e-6 , FeedlineWidth12*1e-6,\n",
    "                                            CapacitorVerticalLength12[i]*1e-6, SpacingC012[i]*1e-6, \n",
    "                                            InductorWidth12[i]*1e-6, InductorTotalLength12[i]*1e-6, Lk_12,\n",
    "                                        epsilon_r_Si, thickness_subs_Si)/1e9} GHz')\n",
    "    print('')\n",
    "\n",
    "\n",
    "ChipSize12 = [FeedlineLength12 + 2*BondpadLength12 + 2*FeedlineTaperLength12, np.max(InductorTotalLength12) + 5*FeedlineWidth12]\n",
    "\n",
    "c, metal, chip12 = ChipResonatorsTline(ChipSize12, NumberOfResonators12, SeparationTlineResonator12,\n",
    "                        FeedlineWidth12, FeedlineLength12, FeedlineGap12, \n",
    "                        FeedlineTaperLength12, BondpadWidth12, BondpadLength12, BondpadGap12,\n",
    "                        CapacitorHorizontalLength12, CapacitorVerticalLength12, CapacitorWidth12,\n",
    "                        NumberOfBends12, InductorVerticalLength12, InductorHorizontalLength12, InductorWidth12, InductorEndLength12,\n",
    "                        TaperWidth12, TaperLength12, SpacingC012, SpacingCc12)\n",
    "\n",
    "qp(chip12)\n",
    "chip12.write_gds(r\"C:\\Users\\miguelcarrerab\\Documents\\GitHub\\resonators\\gds_files\\20240422_ResonatorsChips\\test.gds\")\n"
   ]
  }
 ],
 "metadata": {
  "kernelspec": {
   "display_name": "resonators",
   "language": "python",
   "name": "python3"
  },
  "language_info": {
   "codemirror_mode": {
    "name": "ipython",
    "version": 3
   },
   "file_extension": ".py",
   "mimetype": "text/x-python",
   "name": "python",
   "nbconvert_exporter": "python",
   "pygments_lexer": "ipython3",
   "version": "3.12.2"
  }
 },
 "nbformat": 4,
 "nbformat_minor": 2
}
