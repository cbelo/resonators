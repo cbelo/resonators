{
 "cells": [
  {
   "cell_type": "code",
   "execution_count": 1,
   "metadata": {},
   "outputs": [],
   "source": [
    "#run only once!\n",
    "%load_ext autoreload\n",
    "%autoreload 2\n",
    "import os\n",
    "os.chdir(os.path.abspath(os.path.join(os.getcwd(), os.pardir)))"
   ]
  },
  {
   "cell_type": "code",
   "execution_count": 2,
   "metadata": {},
   "outputs": [],
   "source": [
    "import numpy as np\n",
    "from phidl import LayerSet\n",
    "from phidl import quickplot as qp\n",
    "from phidl import Path, CrossSection, Device\n",
    "import phidl.path as pp\n",
    "import phidl.geometry as pg\n",
    "import phidl\n",
    "import matplotlib.pyplot as plt\n",
    "from deprecated.Bertram_Functions.MyPhidlFunctions import *\n",
    "from Schuster_Resonators.resonator import ChipResonatorsTline, ChipTline, ChipResonatorsTwoTlines, ChipResonatorsThreeTlines\n",
    "from Schuster_Resonators.approx_Schuster import *\n",
    "from CPW.cpw import *"
   ]
  },
  {
   "cell_type": "markdown",
   "metadata": {},
   "source": [
    "Permeability and thickness heterostructure"
   ]
  },
  {
   "cell_type": "code",
   "execution_count": 3,
   "metadata": {},
   "outputs": [],
   "source": [
    "epsilon_r = [15.18, 16, 15.18, 16, 11.9]\n",
    "thickness_subs = [50e-9, 20e-9, 600e-9, 300e-9, 600e-6]"
   ]
  },
  {
   "cell_type": "markdown",
   "metadata": {},
   "source": [
    "Feedline"
   ]
  },
  {
   "cell_type": "code",
   "execution_count": 4,
   "metadata": {},
   "outputs": [
    {
     "name": "stdout",
     "output_type": "stream",
     "text": [
      "Impedance of the feedline is 50.26339721808462 Ohm\n",
      "Frequency of the feedline is 2.1923824876462703 GHz\n"
     ]
    }
   ],
   "source": [
    "epsilon_r = 11.9\n",
    "thickness_subs = 500e-6\n",
    "FeedlineWidth = 52\n",
    "FeedlineLength  = 5400\n",
    "FeedlineGap= 20\n",
    "FeedlineTaperLength =  100\n",
    "BondpadWidth =  200\n",
    "BondpadLength= 200\n",
    "BondpadGap = 200*50/80\n",
    "\n",
    "print('Impedance of the feedline is', impedance_CPW(FeedlineWidth*1e-6, FeedlineGap*1e-6, epsilon_r, thickness_subs, ind_kin_sq=13.5e-12), 'Ohm')\n",
    "print('Frequency of the feedline is', resonance_freq_CPW(FeedlineWidth*1e-6, FeedlineGap*1e-6, epsilon_r, thickness_subs, ind_kin_sq=13.5e-12, length_CPW=(FeedlineLength + FeedlineTaperLength + BondpadLength)*1e-6)/1e9, 'GHz')"
   ]
  },
  {
   "cell_type": "code",
   "execution_count": 5,
   "metadata": {},
   "outputs": [
    {
     "data": {
      "image/png": "[encoded data removed]",
      "text/plain": [
       "<Figure size 640x480 with 1 Axes>"
      ]
     },
     "metadata": {},
     "output_type": "display_data"
    }
   ],
   "source": [
    "ChipSize = [FeedlineLength + 2*BondpadLength + 2*FeedlineTaperLength, 1500]\n",
    "\n",
    "_, _, TLine = ChipTline(ChipSize,\n",
    "                          FeedlineWidth, \n",
    "                          FeedlineLength, \n",
    "                          FeedlineGap, \n",
    "                          FeedlineTaperLength, \n",
    "                          BondpadWidth, \n",
    "                          BondpadLength, \n",
    "                          BondpadGap)\n",
    "qp(TLine)\n",
    "#TLine.write_gds(r\"C:\\Users\\localadmin\\Documents\\GitHub\\resonators\\gds_files\\20241001-GeRes-Pt-13pHsq\\Tline-2.gds\")"
   ]
  },
  {
   "cell_type": "code",
   "execution_count": 14,
   "metadata": {},
   "outputs": [
    {
     "ename": "TypeError",
     "evalue": "SchusterResonatorSmooth() missing 1 required positional argument: 'SpacingCc'",
     "output_type": "error",
     "traceback": [
      "\u001b[1;31m---------------------------------------------------------------------------\u001b[0m",
      "\u001b[1;31mTypeError\u001b[0m                                 Traceback (most recent call last)",
      "Cell \u001b[1;32mIn[14], line 27\u001b[0m\n\u001b[0;32m     23\u001b[0m TaperLength \u001b[38;5;241m=\u001b[39m np\u001b[38;5;241m.\u001b[39mones(NumberOfResonators)\u001b[38;5;241m*\u001b[39m\u001b[38;5;241m5\u001b[39m\n\u001b[0;32m     24\u001b[0m FinalSpacingBondpads \u001b[38;5;241m=\u001b[39m \u001b[38;5;241m100\u001b[39m\n\u001b[1;32m---> 27\u001b[0m Res, etch \u001b[38;5;241m=\u001b[39m \u001b[43mSchusterResonatorSmooth\u001b[49m\u001b[43m(\u001b[49m\u001b[43mCapacitorHorizontalLength\u001b[49m\u001b[43m[\u001b[49m\u001b[38;5;241;43m0\u001b[39;49m\u001b[43m]\u001b[49m\u001b[43m,\u001b[49m\u001b[43m \u001b[49m\n\u001b[0;32m     28\u001b[0m \u001b[43m                            \u001b[49m\u001b[43mCapacitorVerticalLength\u001b[49m\u001b[43m[\u001b[49m\u001b[38;5;241;43m0\u001b[39;49m\u001b[43m]\u001b[49m\u001b[43m,\u001b[49m\u001b[43m \u001b[49m\n\u001b[0;32m     29\u001b[0m \u001b[43m                            \u001b[49m\u001b[43mCapacitorWidth\u001b[49m\u001b[43m[\u001b[49m\u001b[38;5;241;43m0\u001b[39;49m\u001b[43m]\u001b[49m\u001b[43m,\u001b[49m\n\u001b[0;32m     30\u001b[0m \u001b[43m                            \u001b[49m\u001b[43mNumberOfBends\u001b[49m\u001b[43m[\u001b[49m\u001b[38;5;241;43m0\u001b[39;49m\u001b[43m]\u001b[49m\u001b[43m,\u001b[49m\u001b[43m \u001b[49m\n\u001b[0;32m     31\u001b[0m \u001b[43m                            \u001b[49m\u001b[43mInductorVerticalLength\u001b[49m\u001b[43m[\u001b[49m\u001b[38;5;241;43m0\u001b[39;49m\u001b[43m]\u001b[49m\u001b[43m,\u001b[49m\n\u001b[0;32m     32\u001b[0m \u001b[43m                            \u001b[49m\u001b[43mInductorHorizontalLength\u001b[49m\u001b[43m[\u001b[49m\u001b[38;5;241;43m0\u001b[39;49m\u001b[43m]\u001b[49m\u001b[43m,\u001b[49m\n\u001b[0;32m     33\u001b[0m \u001b[43m                            \u001b[49m\u001b[43mInductorWidth\u001b[49m\u001b[43m[\u001b[49m\u001b[38;5;241;43m0\u001b[39;49m\u001b[43m]\u001b[49m\u001b[43m,\u001b[49m\n\u001b[0;32m     34\u001b[0m \u001b[43m                            \u001b[49m\u001b[43mTaperWidth\u001b[49m\u001b[43m[\u001b[49m\u001b[38;5;241;43m0\u001b[39;49m\u001b[43m]\u001b[49m\u001b[43m,\u001b[49m\n\u001b[0;32m     35\u001b[0m \u001b[43m                            \u001b[49m\u001b[43mTaperLength\u001b[49m\u001b[43m[\u001b[49m\u001b[38;5;241;43m0\u001b[39;49m\u001b[43m]\u001b[49m\u001b[43m,\u001b[49m\n\u001b[0;32m     36\u001b[0m \u001b[43m                            \u001b[49m\u001b[43mSpacingC0\u001b[49m\u001b[43m[\u001b[49m\u001b[38;5;241;43m0\u001b[39;49m\u001b[43m]\u001b[49m\u001b[43m,\u001b[49m\u001b[43m \u001b[49m\n\u001b[0;32m     37\u001b[0m \u001b[43m                            \u001b[49m\u001b[43mSpacingCc\u001b[49m\u001b[43m[\u001b[49m\u001b[38;5;241;43m0\u001b[39;49m\u001b[43m]\u001b[49m\u001b[43m,\u001b[49m\n\u001b[0;32m     38\u001b[0m \u001b[43m                            \u001b[49m\u001b[43mcalib\u001b[49m\u001b[43m \u001b[49m\u001b[38;5;241;43m=\u001b[39;49m\u001b[43m \u001b[49m\u001b[38;5;28;43;01mFalse\u001b[39;49;00m\u001b[43m,\u001b[49m\u001b[43m \u001b[49m\n\u001b[0;32m     39\u001b[0m \u001b[43m                            \u001b[49m\u001b[43mcap_sim\u001b[49m\u001b[43m \u001b[49m\u001b[38;5;241;43m=\u001b[39;49m\u001b[43m \u001b[49m\u001b[38;5;28;43;01mFalse\u001b[39;49;00m\n\u001b[0;32m     40\u001b[0m \u001b[43m                            \u001b[49m\u001b[43m)\u001b[49m\n\u001b[0;32m     42\u001b[0m qp(Res)\n\u001b[0;32m     45\u001b[0m \u001b[38;5;66;03m# freqs = []\u001b[39;00m\n\u001b[0;32m     46\u001b[0m \u001b[38;5;66;03m# for i in range(NumberOfResonators):\u001b[39;00m\n\u001b[0;32m     47\u001b[0m \u001b[38;5;66;03m#     print(f'Resonator {i+1}')\u001b[39;00m\n\u001b[1;32m   (...)\u001b[0m\n\u001b[0;32m     68\u001b[0m \u001b[38;5;66;03m# chip.write_gds(r\"C:\\Users\\localadmin\\Documents\\GitHub\\resonators\\gds_files\\juliantryingstuff\\tworesonator_indlength_500_2020_width_0.3.gds\")\u001b[39;00m\n\u001b[0;32m     69\u001b[0m \u001b[38;5;66;03m# qp(chip)\u001b[39;00m\n",
      "\u001b[1;31mTypeError\u001b[0m: SchusterResonatorSmooth() missing 1 required positional argument: 'SpacingCc'"
     ]
    }
   ],
   "source": [
    "from Schuster_Resonators.resonator import SchusterResonatorSmooth\n",
    "\n",
    "\n",
    "NumberOfResonators = int(1)\n",
    "SeparationTlineResonator = [0]*NumberOfResonators\n",
    "\n",
    "#Resonator parameters\n",
    "CapacitorHorizontalLength = np.ones(NumberOfResonators)*150\n",
    "CapacitorVerticalLength = np.ones(NumberOfResonators)*150\n",
    "CapacitorWidth = np.ones(NumberOfResonators)*8\n",
    "\n",
    "NumberOfBends = np.ones(NumberOfResonators, dtype=int)*[35]\n",
    "InductorVerticalLength = np.ones(NumberOfResonators)*10\n",
    "InductorEndLength = np.ones(NumberOfResonators)*[70]\n",
    "InductorHorizontalLength = np.ones(NumberOfResonators)*[70]\n",
    "InductorWidth = np.ones(NumberOfResonators)*0.3\n",
    "TaperWidth = np.ones(NumberOfResonators)*20\n",
    "InductorTotalLength = InductorVerticalLength*(NumberOfBends+4) + InductorEndLength +InductorHorizontalLength*(NumberOfBends+1)\n",
    "\n",
    "\n",
    "SpacingC0 = np.ones(NumberOfResonators)*5\n",
    "SpacingCc = np.ones(NumberOfResonators)*[0]\n",
    "TaperLength = np.ones(NumberOfResonators)*5\n",
    "FinalSpacingBondpads = 100\n",
    "\n",
    "\n",
    "Res, etch = SchusterResonatorSmooth(CapacitorHorizontalLength[0], \n",
    "                            CapacitorVerticalLength[0], \n",
    "                            CapacitorWidth[0],\n",
    "                            NumberOfBends[0], \n",
    "                            InductorVerticalLength[0],\n",
    "                            InductorHorizontalLength[0],\n",
    "                            InductorWidth[0],\n",
    "                            TaperWidth[0],\n",
    "                            TaperLength[0],\n",
    "                            SpacingC0[0], \n",
    "                            SpacingCc[0],\n",
    "                            calib = False, \n",
    "                            cap_sim = False\n",
    "                            )\n",
    "\n",
    "qp(Res)\n",
    "\n",
    "\n",
    "# freqs = []\n",
    "# for i in range(NumberOfResonators):\n",
    "#     print(f'Resonator {i+1}')\n",
    "#     freqs.append(resonance_freq_Schuster(InductorWidth[i]*1e-6, CapacitorWidth[i]*1e-6, (SeparationTlineResonator[i] + FeedlineGap + SpacingCc[i])*1e-6 , FeedlineWidth*1e-6,\n",
    "#                                             CapacitorVerticalLength[i]*1e-6, SpacingC0[i]*1e-6,\n",
    "#                                             InductorWidth[i]*1e-6, InductorTotalLength[i]*1e-6, 13.5e-12,\n",
    "#                                         epsilon_r, thickness_subs)/1e9)                                        \n",
    "\n",
    "# print('Inductor total length is', InductorTotalLength)\n",
    "# print('The frequencies are', freqs)\n",
    "\n",
    "\n",
    "# FeedlineLength = 1500\n",
    "# ChipSize = [FeedlineLength, 900]\n",
    "\n",
    "# c, metal, chip = ChipResonatorsTline(ChipSize,NumberOfResonators, SeparationTlineResonator,\n",
    "#                         FeedlineWidth, FeedlineLength, FeedlineGap, \n",
    "#                         FeedlineTaperLength, BondpadWidth, BondpadLength, BondpadGap,\n",
    "#                         CapacitorHorizontalLength, CapacitorVerticalLength, CapacitorWidth,\n",
    "#                         NumberOfBends, InductorVerticalLength, InductorHorizontalLength, InductorWidth, InductorEndLength,\n",
    "#                         TaperWidth, TaperLength, SpacingC0, SpacingCc,\n",
    "#                         FinalSpacingBondpads, MWO_simulation=True)\n",
    "\n",
    "# chip.write_gds(r\"C:\\Users\\localadmin\\Documents\\GitHub\\resonators\\gds_files\\juliantryingstuff\\tworesonator_indlength_500_2020_width_0.3.gds\")\n",
    "# qp(chip)"
   ]
  },
  {
   "cell_type": "code",
   "execution_count": null,
   "metadata": {},
   "outputs": [],
   "source": []
  }
 ],
 "metadata": {
  "kernelspec": {
   "display_name": "resonators",
   "language": "python",
   "name": "python3"
  },
  "language_info": {
   "codemirror_mode": {
    "name": "ipython",
    "version": 3
   },
   "file_extension": ".py",
   "mimetype": "text/x-python",
   "name": "python",
   "nbconvert_exporter": "python",
   "pygments_lexer": "ipython3",
   "version": "3.12.5"
  }
 },
 "nbformat": 4,
 "nbformat_minor": 2
}
