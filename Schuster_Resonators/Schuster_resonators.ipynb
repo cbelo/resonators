{
 "cells": [
  {
   "cell_type": "code",
   "execution_count": 1,
   "metadata": {},
   "outputs": [],
   "source": [
    "#run only once!\n",
    "%load_ext autoreload\n",
    "%autoreload 2\n",
    "import os\n",
    "os.chdir(os.path.abspath(os.path.join(os.getcwd(), os.pardir)))"
   ]
  },
  {
   "cell_type": "code",
   "execution_count": 2,
   "metadata": {},
   "outputs": [
    {
     "name": "stdout",
     "output_type": "stream",
     "text": [
      "c:\\Users\\LocalAdmin\\Documents\\GitHub\\resonators\n"
     ]
    }
   ],
   "source": [
    "\n",
    "import os\n",
    "# os.chdir(os.path.dirname(os.getcwd()))\n",
    "import numpy as np\n",
    "from phidl import LayerSet\n",
    "from phidl import quickplot as qp\n",
    "from phidl import Path, CrossSection, Device\n",
    "import phidl.path as pp\n",
    "import phidl.geometry as pg\n",
    "import phidl\n",
    "import matplotlib.pyplot as plt\n",
    "# from Bertram_Functions.MyPhidlFunctions import *\n",
    "print(os.getcwd())\n",
    "from Schuster_Resonators.resonator import ChipResonatorsTline\n",
    "from Schuster_Resonators.approx_Schuster import *\n",
    "from CPW.cpw import *"
   ]
  },
  {
   "cell_type": "code",
   "execution_count": 3,
   "metadata": {},
   "outputs": [
    {
     "name": "stdout",
     "output_type": "stream",
     "text": [
      "Impedance: 46.85318971192408\n",
      "Freq: 10.665524408102584\n",
      "Epsilon_eff: 7.934609723352778\n",
      "Cap per length: 265.41013882930895\n",
      "Ind per length: 582.6340128675128\n"
     ]
    }
   ],
   "source": [
    "#CPW5pH for Si\n",
    "width = 20e-6\n",
    "spacing = 5e-6\n",
    "thickness_subs = 500e-6\n",
    "epsilon_r = 11.9\n",
    "ind_kin_sq = 5e-12\n",
    "length = 1.2e-3\n",
    "print('Impedance:', impedance_CPW(width, spacing, epsilon_r, thickness_subs, ind_kin_sq))\n",
    "print('Freq:', 1e-9*resonance_freq_CPW(width, spacing, epsilon_r, thickness_subs, ind_kin_sq, length))\n",
    "print('Epsilon_eff:', epsilon_eff_CPW(width, spacing, epsilon_r, thickness_subs))\n",
    "print('Cap per length:', 1e12*cap_CPW_per_length(width, spacing, epsilon_r, thickness_subs))\n",
    "print('Ind per length:', 1e9*ind_CPW_per_length(width, spacing, ind_kin_sq))"
   ]
  },
  {
   "cell_type": "code",
   "execution_count": 6,
   "metadata": {},
   "outputs": [
    {
     "name": "stdout",
     "output_type": "stream",
     "text": [
      "Impedance: 42.43876376167997\n",
      "Freq: 30.34978707646147\n",
      "Epsilon_eff: 9.671157281599836\n",
      "Cap per length: 323.4970951620895\n",
      "Ind per length: 582.6340128675128\n",
      "\n",
      "Impedance: 39.01804962368916\n",
      "Freq: 35.06290006244868\n",
      "Epsilon_eff: 11.323168743766852\n",
      "Cap per length: 304.56175591773564\n",
      "Ind per length: 463.66731353030514\n",
      "\n"
     ]
    }
   ],
   "source": [
    "#CPW5pH for Ge heterostructure\n",
    "width = [20e-6, 100e-6]\n",
    "spacing =[5e-6, 50e-6]\n",
    "epsilon_r = [15.18, 16, 15.18, 16, 11.9]\n",
    "thickness_subs = [50e-9, 20e-9, 600e-9, 300e-9, 600e-6]\n",
    "ind_kin_sq = 5e-12\n",
    "length = 1.2e-3\n",
    "for i in range(len(width)):\n",
    "    print('Impedance:', impedance_CPW(width[i], spacing[i], epsilon_r, thickness_subs, ind_kin_sq))\n",
    "    print('Freq:', 1e-9*resonance_freq_CPW(width[i], spacing[i], epsilon_r, thickness_subs, ind_kin_sq, length))\n",
    "    print('Epsilon_eff:', epsilon_eff_CPW(width[i], spacing[i], epsilon_r, thickness_subs))\n",
    "    print('Cap per length:', 1e12*cap_CPW_per_length(width[i], spacing[i], epsilon_r, thickness_subs))\n",
    "    print('Ind per length:', 1e9*ind_CPW_per_length(width[i], spacing[i], ind_kin_sq))\n",
    "    print('')"
   ]
  },
  {
   "cell_type": "code",
   "execution_count": 131,
   "metadata": {},
   "outputs": [
    {
     "name": "stdout",
     "output_type": "stream",
     "text": [
      "Impedance: [50.92553893]\n",
      "Freq: [28.36081639]\n",
      "Epsilon_eff: [6.43489231]\n",
      "Cap per length: [288.49241306]\n",
      "Ind per length: 748.1792576230346\n"
     ]
    }
   ],
   "source": [
    "#CPW50pH for Si\n",
    "\n",
    "width = 100e-6\n",
    "spacing = 9e-6\n",
    "thickness_air = 10e-3\n",
    "thickness_subs = 500e-6\n",
    "epsilon_r = 11.9\n",
    "ind_kin_sq = 50e-12\n",
    "length = 1.2e-3\n",
    "print('Impedance:', impedance_CPW(width, spacing, epsilon_r, thickness_subs, ind_kin_sq))\n",
    "print('Freq:', 1e-9*resonance_freq_CPW(width, spacing, epsilon_r, thickness_subs, ind_kin_sq, length))\n",
    "print('Epsilon_eff:', epsilon_eff_CPW(width, spacing, epsilon_r, thickness_subs))\n",
    "print('Cap per length:', 1e12*cap_CPW_per_length(width, spacing, epsilon_r, thickness_subs))\n",
    "print('Ind per length:', 1e9*ind_CPW_per_length(width, spacing, ind_kin_sq))\n"
   ]
  },
  {
   "cell_type": "code",
   "execution_count": 5,
   "metadata": {},
   "outputs": [
    {
     "name": "stdout",
     "output_type": "stream",
     "text": [
      "Impedance: 45.96549537314598\n",
      "Freq: 25.59853075806679\n",
      "Epsilon_eff: 7.898573447242878\n",
      "Cap per length: 354.11292115986834\n",
      "Ind per length: 748.1792576230346\n",
      "\n",
      "Impedance: 41.12821202270115\n",
      "Freq: 31.13670294199434\n",
      "Epsilon_eff: 9.448286789897484\n",
      "Cap per length: 325.3690994146262\n",
      "Ind per length: 550.3715355278134\n",
      "\n"
     ]
    }
   ],
   "source": [
    "#CPW50pH for Ge heterostructure\n",
    "\n",
    "width = [100e-6, 220e-6]\n",
    "spacing = [9e-6, 50e-6]\n",
    "epsilon_r = [15.18, 16, 15.18, 16, 11.9]\n",
    "thickness_subs = [50e-9, 20e-9, 600e-9, 300e-9, 600e-6]\n",
    "ind_kin_sq = 50e-12\n",
    "length = 1.2e-3\n",
    "for i in range(len(width)):\n",
    "    print('Impedance:', impedance_CPW(width[i], spacing[i], epsilon_r, thickness_subs, ind_kin_sq))\n",
    "    print('Freq:', 1e-9*resonance_freq_CPW(width[i], spacing[i], epsilon_r, thickness_subs, ind_kin_sq, length))\n",
    "    print('Epsilon_eff:', epsilon_eff_CPW(width[i], spacing[i], epsilon_r, thickness_subs))\n",
    "    print('Cap per length:', 1e12*cap_CPW_per_length(width[i], spacing[i], epsilon_r, thickness_subs))\n",
    "    print('Ind per length:', 1e9*ind_CPW_per_length(width[i], spacing[i], ind_kin_sq))\n",
    "    print('')"
   ]
  },
  {
   "cell_type": "code",
   "execution_count": 133,
   "metadata": {},
   "outputs": [
    {
     "name": "stdout",
     "output_type": "stream",
     "text": [
      "Impedance: [51.12116109]\n",
      "Freq: [20.93841111]\n",
      "Epsilon_eff: [6.43586055]\n",
      "Cap per length: [389.26407668]\n",
      "Ind per length: 1017.292271049862\n"
     ]
    }
   ],
   "source": [
    "#CPW100pH for Si\n",
    "\n",
    "width = 120e-6\n",
    "spacing = 3e-6\n",
    "thickness_air = 10e-3\n",
    "thickness_subs = 500e-6\n",
    "epsilon_r = 11.9\n",
    "ind_kin_sq = 100e-12\n",
    "length = 1.2e-3\n",
    "print('Impedance:', impedance_CPW(width, spacing, epsilon_r, thickness_subs, ind_kin_sq))\n",
    "print('Freq:', 1e-9*resonance_freq_CPW(width, spacing, epsilon_r, thickness_subs, ind_kin_sq, length))\n",
    "print('Epsilon_eff:', epsilon_eff_CPW(width, spacing, epsilon_r, thickness_subs))\n",
    "print('Cap per length:', 1e12*cap_CPW_per_length(width, spacing, epsilon_r, thickness_subs))\n",
    "print('Ind per length:', 1e9*ind_CPW_per_length(width, spacing, ind_kin_sq))"
   ]
  },
  {
   "cell_type": "code",
   "execution_count": 7,
   "metadata": {},
   "outputs": [
    {
     "name": "stdout",
     "output_type": "stream",
     "text": [
      "Impedance: 50.93900557162923\n",
      "Freq: 20.863803116228734\n",
      "Epsilon_eff: 6.48197152631154\n",
      "Cap per length: 392.05303485725466\n",
      "Ind per length: 1017.292271049862\n",
      "\n",
      "Impedance: 43.35804878947611\n",
      "Freq: 28.771119272247002\n",
      "Epsilon_eff: 8.843236754151526\n",
      "Cap per length: 334.01215475035843\n",
      "Ind per length: 627.9162618365101\n",
      "\n"
     ]
    }
   ],
   "source": [
    "#CPW100pH for Ge heterostructure\n",
    "\n",
    "width = [120e-6, 300e-6]\n",
    "spacing = [3e-6, 50e-6]\n",
    "epsilon_r = [15.18, 16, 15.18, 16, 11.9]\n",
    "thickness_subs = [50e-9, 20e-9, 600e-9, 300e-9, 600e-6]\n",
    "ind_kin_sq = 100e-12\n",
    "length = 1.2e-3\n",
    "for i in range(len(width)):\n",
    "    print('Impedance:', impedance_CPW(width[i], spacing[i], epsilon_r, thickness_subs, ind_kin_sq))\n",
    "    print('Freq:', 1e-9*resonance_freq_CPW(width[i], spacing[i], epsilon_r, thickness_subs, ind_kin_sq, length))\n",
    "    print('Epsilon_eff:', epsilon_eff_CPW(width[i], spacing[i], epsilon_r, thickness_subs))\n",
    "    print('Cap per length:', 1e12*cap_CPW_per_length(width[i], spacing[i], epsilon_r, thickness_subs))\n",
    "    print('Ind per length:', 1e9*ind_CPW_per_length(width[i], spacing[i], ind_kin_sq))\n",
    "    print('')"
   ]
  },
  {
   "cell_type": "markdown",
   "metadata": {},
   "source": [
    "## 5pH resonator"
   ]
  },
  {
   "cell_type": "code",
   "execution_count": 9,
   "metadata": {},
   "outputs": [
    {
     "name": "stdout",
     "output_type": "stream",
     "text": [
      "Inductor total length: [3144.]\n"
     ]
    },
    {
     "data": {
      "image/png": "[encoded data removed]",
      "text/plain": [
       "<Figure size 640x480 with 1 Axes>"
      ]
     },
     "metadata": {},
     "output_type": "display_data"
    },
    {
     "data": {
      "text/plain": [
       "'C:\\\\Users\\\\localadmin\\\\Documents\\\\GitHub\\\\resonators\\\\gds_files\\\\one_resonator\\\\OneResonatorTest_1umSeparation_5pH.gds'"
      ]
     },
     "execution_count": 9,
     "metadata": {},
     "output_type": "execute_result"
    }
   ],
   "source": [
    "\n",
    "Chipsize = [1500,1500]\n",
    "SeparationTlineResonator = [0]\n",
    "NumberOfResonators = 1\n",
    "FeedlineWidth = 20\n",
    "FeedlineLength  = 1000\n",
    "FeedlineGap = 5\n",
    "FeedlineTaperLength =  50\n",
    "BondpadWidth =  100\n",
    "BondpadLength = 200\n",
    "BondpadGap = 50\n",
    "\n",
    "#Resonator parameters\n",
    "CapacitorHorizontalLength = np.ones(NumberOfResonators)*120\n",
    "CapacitorVerticalLength = np.ones(NumberOfResonators)*200\n",
    "CapacitorWidth = np.ones(NumberOfResonators)*15\n",
    "\n",
    "NumberOfBends = np.ones(NumberOfResonators, dtype=int)*50\n",
    "InductorVerticalLength = np.ones(NumberOfResonators)*11\n",
    "InductorHorizontalLength = np.ones(NumberOfResonators)*50\n",
    "InductorEndLength = 50*np.ones(NumberOfResonators)\n",
    "InductorTotalLength = InductorVerticalLength*(NumberOfBends+4) + InductorEndLength +InductorHorizontalLength*NumberOfBends\n",
    "print('Inductor total length:', InductorTotalLength)\n",
    "InductorWidth = np.ones(NumberOfResonators)*1\n",
    "TaperWidth = np.ones(NumberOfResonators)*20\n",
    "SpacingC0 = np.ones(NumberOfResonators)*10\n",
    "SpacingCc = np.ones(NumberOfResonators)*(-4)\n",
    "TaperLength = np.ones(NumberOfResonators)*5\n",
    "\n",
    "\n",
    "c, metal,chip = ChipResonatorsTline(Chipsize, NumberOfResonators, SeparationTlineResonator,\n",
    "                        FeedlineWidth, FeedlineLength, FeedlineGap, \n",
    "                        FeedlineTaperLength, BondpadWidth, BondpadLength, BondpadGap,\n",
    "                        CapacitorHorizontalLength, CapacitorVerticalLength, CapacitorWidth,\n",
    "                        NumberOfBends, InductorVerticalLength, InductorHorizontalLength, InductorWidth, InductorEndLength,\n",
    "                        TaperWidth, TaperLength, SpacingC0, SpacingCc, cap_sim=True)\n",
    "\n",
    "# qp([c, metal])\n",
    "qp(chip)\n",
    "chip.write_gds(r\"C:\\Users\\localadmin\\Documents\\GitHub\\resonators\\gds_files\\one_resonator\\OneResonatorTest_1umSeparation_5pH.gds\")\n",
    "# chip.write_gds(r\"C:\\Users\\miguelcarrerab\\Documents\\GitHub\\resonators\\gds_files\\test.gds\")"
   ]
  },
  {
   "cell_type": "markdown",
   "metadata": {},
   "source": [
    "Approx in Si"
   ]
  },
  {
   "cell_type": "code",
   "execution_count": 106,
   "metadata": {},
   "outputs": [
    {
     "name": "stdout",
     "output_type": "stream",
     "text": [
      " Imp: [556.71977233] Ohm\n",
      "[20.00455385] nH\n",
      "[41.89174949] fF\n",
      "[22.65220619] fF\n",
      "Freq: [4.42922668] GHz\n"
     ]
    }
   ],
   "source": [
    "epsilon_r = 11.9\n",
    "thickness_subs = 500e-6\n",
    "ind_kin_sq = 5e-12\n",
    "\n",
    "print(f' Imp: {impedance_Schuster(CapacitorWidth*1e-6, CapacitorHorizontalLength*1e-6, (SeparationTlineResonator + FeedlineGap + SpacingCc)*1e-6 , FeedlineWidth*1e-6,\n",
    "                                       CapacitorVerticalLength*1e-6, SpacingC0*1e-6,\n",
    "                                       InductorWidth*1e-6, InductorTotalLength*1e-6, ind_kin_sq,\n",
    "                                       epsilon_r, thickness_subs)} Ohm')\n",
    "\n",
    "print(f'Freq: {1e-9*resonance_freq_Schuster(CapacitorWidth*1e-6, CapacitorHorizontalLength*1e-6, (SeparationTlineResonator + FeedlineGap + SpacingCc)*1e-6 , FeedlineWidth*1e-6,\n",
    "                                    CapacitorVerticalLength*1e-6, SpacingC0*1e-6,\n",
    "                                    InductorWidth*1e-6, InductorTotalLength*1e-6, ind_kin_sq,\n",
    "                                    epsilon_r, thickness_subs)} GHz')"
   ]
  },
  {
   "cell_type": "markdown",
   "metadata": {},
   "source": [
    "Approx in Ge heterostructure"
   ]
  },
  {
   "cell_type": "code",
   "execution_count": 115,
   "metadata": {},
   "outputs": [
    {
     "name": "stdout",
     "output_type": "stream",
     "text": [
      " Imp: [499.40814838] Ohm\n",
      "[20.00455385] nH\n",
      "[53.39086452] fF\n",
      "[26.81712342] fF\n",
      "Freq: [3.97325909] GHz\n"
     ]
    }
   ],
   "source": [
    "epsilon_r = [15.18, 16, 15.18, 16, 11.9]\n",
    "thickness_subs = [50e-9, 20e-9, 600e-9, 300e-9, 600e-6]\n",
    "ind_kin_sq = 5e-12\n",
    "\n",
    "print(f' Imp: {impedance_Schuster(CapacitorWidth*1e-6, CapacitorHorizontalLength*1e-6, (SeparationTlineResonator + FeedlineGap + SpacingCc)*1e-6 , FeedlineWidth*1e-6,\n",
    "                                       CapacitorVerticalLength*1e-6, SpacingC0*1e-6,\n",
    "                                       InductorWidth*1e-6, InductorTotalLength*1e-6, ind_kin_sq,\n",
    "                                       epsilon_r, thickness_subs)} Ohm')\n",
    "\n",
    "print(f'Freq: {1e-9*resonance_freq_Schuster(CapacitorWidth*1e-6, CapacitorHorizontalLength*1e-6, (SeparationTlineResonator + FeedlineGap + SpacingCc)*1e-6 , FeedlineWidth*1e-6,\n",
    "                                    CapacitorVerticalLength*1e-6, SpacingC0*1e-6,\n",
    "                                    InductorWidth*1e-6, InductorTotalLength*1e-6, ind_kin_sq,\n",
    "                                    epsilon_r, thickness_subs)} GHz')"
   ]
  },
  {
   "cell_type": "markdown",
   "metadata": {},
   "source": [
    "## 50pH resonator"
   ]
  },
  {
   "cell_type": "code",
   "execution_count": 117,
   "metadata": {},
   "outputs": [
    {
     "data": {
      "image/png": "[encoded data removed]",
      "text/plain": [
       "<Figure size 640x480 with 1 Axes>"
      ]
     },
     "metadata": {},
     "output_type": "display_data"
    }
   ],
   "source": [
    "\n",
    "Chipsize = [1500,1500]\n",
    "SeparationTlineResonator = 0\n",
    "NumberOfResonators = 1\n",
    "FeedlineWidth = 100\n",
    "FeedlineLength  = 1000\n",
    "FeedlineGap = 9\n",
    "FeedlineTaperLength =  50\n",
    "BondpadWidth =  220\n",
    "BondpadLength = 200\n",
    "BondpadGap = 50\n",
    "\n",
    "#Resonator parameters\n",
    "CapacitorHorizontalLength = np.ones(NumberOfResonators)*120\n",
    "CapacitorVerticalLength = np.ones(NumberOfResonators)*200\n",
    "CapacitorWidth = np.ones(NumberOfResonators)*15\n",
    "\n",
    "NumberOfBends = np.ones(NumberOfResonators, dtype=int)*50\n",
    "InductorVerticalLength = np.ones(NumberOfResonators)*11\n",
    "InductorHorizontalLength = np.ones(NumberOfResonators)*50\n",
    "InductorEndLength = 50*np.ones(NumberOfResonators)\n",
    "InductorTotalLength = InductorVerticalLength*(NumberOfBends+4) + InductorEndLength +InductorHorizontalLength*NumberOfBends\n",
    "InductorWidth = np.ones(NumberOfResonators)*1\n",
    "TaperWidth = np.ones(NumberOfResonators)*20\n",
    "SpacingC0 = np.ones(NumberOfResonators)*10\n",
    "SpacingCc = np.ones(NumberOfResonators)*(-4)\n",
    "TaperLength = np.ones(NumberOfResonators)*5\n",
    "\n",
    "\n",
    "c, metal,chip = ChipResonatorsTline(Chipsize, NumberOfResonators, SeparationTlineResonator,\n",
    "                        FeedlineWidth, FeedlineLength, FeedlineGap, \n",
    "                        FeedlineTaperLength, BondpadWidth, BondpadLength, BondpadGap,\n",
    "                        CapacitorHorizontalLength, CapacitorVerticalLength, CapacitorWidth,\n",
    "                        NumberOfBends, InductorVerticalLength, InductorHorizontalLength, InductorWidth, InductorEndLength,\n",
    "                        TaperWidth, TaperLength, SpacingC0, SpacingCc)\n",
    "\n",
    "# qp([c, metal])\n",
    "qp(chip)\n",
    "# chip.write_gds(\"gds_files/one_resonator/OneResonatorTest_5umSeparation_50pH.gds\")"
   ]
  },
  {
   "cell_type": "markdown",
   "metadata": {},
   "source": [
    "Approx on Si"
   ]
  },
  {
   "cell_type": "code",
   "execution_count": 119,
   "metadata": {},
   "outputs": [
    {
     "name": "stdout",
     "output_type": "stream",
     "text": [
      " Imp: [1653.4742691] Ohm\n",
      "[161.48455385] nH\n",
      "[41.89174949] fF\n",
      "[17.17405263] fF\n",
      "Freq: [1.6296209] GHz\n"
     ]
    }
   ],
   "source": [
    "epsilon_r = 11.9\n",
    "thickness_subs = 500e-6\n",
    "ind_kin_sq = 50e-12\n",
    "\n",
    "print(f' Imp: {impedance_Schuster(CapacitorWidth*1e-6, CapacitorHorizontalLength*1e-6, (SeparationTlineResonator + FeedlineGap + SpacingCc)*1e-6 , FeedlineWidth*1e-6,\n",
    "                                       CapacitorVerticalLength*1e-6, SpacingC0*1e-6,\n",
    "                                       InductorWidth*1e-6, InductorTotalLength*1e-6, ind_kin_sq,\n",
    "                                       epsilon_r, thickness_subs)} Ohm')\n",
    "\n",
    "print(f'Freq: {1e-9*resonance_freq_Schuster(CapacitorWidth*1e-6, CapacitorHorizontalLength*1e-6, (SeparationTlineResonator + FeedlineGap + SpacingCc)*1e-6 , FeedlineWidth*1e-6,\n",
    "                                    CapacitorVerticalLength*1e-6, SpacingC0*1e-6,\n",
    "                                    InductorWidth*1e-6, InductorTotalLength*1e-6, ind_kin_sq,\n",
    "                                    epsilon_r, thickness_subs)} GHz')"
   ]
  },
  {
   "cell_type": "markdown",
   "metadata": {},
   "source": [
    "Approx on Ge heterostructure"
   ]
  },
  {
   "cell_type": "code",
   "execution_count": 120,
   "metadata": {},
   "outputs": [
    {
     "name": "stdout",
     "output_type": "stream",
     "text": [
      " Imp: [1476.45420434] Ohm\n",
      "[161.48455385] nH\n",
      "[53.39086452] fF\n",
      "[20.68743872] fF\n",
      "Freq: [1.45515456] GHz\n"
     ]
    }
   ],
   "source": [
    "epsilon_r = [15.18, 16, 15.18, 16, 11.9]\n",
    "thickness_subs = [50e-9, 20e-9, 600e-9, 300e-9, 600e-6]\n",
    "ind_kin_sq = 50e-12\n",
    "\n",
    "print(f' Imp: {impedance_Schuster(CapacitorWidth*1e-6, CapacitorHorizontalLength*1e-6, (SeparationTlineResonator + FeedlineGap + SpacingCc)*1e-6 , FeedlineWidth*1e-6,\n",
    "                                       CapacitorVerticalLength*1e-6, SpacingC0*1e-6,\n",
    "                                       InductorWidth*1e-6, InductorTotalLength*1e-6, ind_kin_sq,\n",
    "                                       epsilon_r, thickness_subs)} Ohm')\n",
    "\n",
    "print(f'Freq: {1e-9*resonance_freq_Schuster(CapacitorWidth*1e-6, CapacitorHorizontalLength*1e-6, (SeparationTlineResonator + FeedlineGap + SpacingCc)*1e-6 , FeedlineWidth*1e-6,\n",
    "                                    CapacitorVerticalLength*1e-6, SpacingC0*1e-6,\n",
    "                                    InductorWidth*1e-6, InductorTotalLength*1e-6, ind_kin_sq,\n",
    "                                    epsilon_r, thickness_subs)} GHz')"
   ]
  },
  {
   "cell_type": "markdown",
   "metadata": {},
   "source": [
    "## 100pH resonator"
   ]
  },
  {
   "cell_type": "code",
   "execution_count": 121,
   "metadata": {},
   "outputs": [
    {
     "data": {
      "image/png": "[encoded data removed]",
      "text/plain": [
       "<Figure size 640x480 with 1 Axes>"
      ]
     },
     "metadata": {},
     "output_type": "display_data"
    }
   ],
   "source": [
    "\n",
    "Chipsize = [1500,1500]\n",
    "SeparationTlineResonator = 0\n",
    "NumberOfResonators = 1\n",
    "FeedlineWidth = 120\n",
    "FeedlineLength  = 1000\n",
    "FeedlineGap = 3\n",
    "FeedlineTaperLength =  50\n",
    "BondpadWidth =  300\n",
    "BondpadLength = 200\n",
    "BondpadGap = 50\n",
    "\n",
    "#Resonator parameters\n",
    "CapacitorHorizontalLength = np.ones(NumberOfResonators)*120\n",
    "CapacitorVerticalLength = np.ones(NumberOfResonators)*200\n",
    "CapacitorWidth = np.ones(NumberOfResonators)*15\n",
    "\n",
    "NumberOfBends = np.ones(NumberOfResonators, dtype=int)*50\n",
    "InductorVerticalLength = np.ones(NumberOfResonators)*11\n",
    "InductorHorizontalLength = np.ones(NumberOfResonators)*50\n",
    "InductorEndLength = 50*np.ones(NumberOfResonators)\n",
    "InductorTotalLength = InductorVerticalLength*(NumberOfBends+4) + InductorEndLength +InductorHorizontalLength*NumberOfBends\n",
    "InductorWidth = np.ones(NumberOfResonators)*1\n",
    "TaperWidth = np.ones(NumberOfResonators)*20\n",
    "SpacingC0 = np.ones(NumberOfResonators)*10\n",
    "SpacingCc = np.ones(NumberOfResonators)*(2)\n",
    "TaperLength = np.ones(NumberOfResonators)*5\n",
    "\n",
    "\n",
    "c, metal,chip = ChipResonatorsTline(Chipsize, NumberOfResonators, SeparationTlineResonator,\n",
    "                        FeedlineWidth, FeedlineLength, FeedlineGap, \n",
    "                        FeedlineTaperLength, BondpadWidth, BondpadLength, BondpadGap,\n",
    "                        CapacitorHorizontalLength, CapacitorVerticalLength, CapacitorWidth,\n",
    "                        NumberOfBends, InductorVerticalLength, InductorHorizontalLength, InductorWidth, InductorEndLength,\n",
    "                        TaperWidth, TaperLength, SpacingC0, SpacingCc)\n",
    "\n",
    "# qp([c, metal])\n",
    "qp(chip)\n",
    "# chip.write_gds(\"gds_files/one_resonator/OneResonatorTest_5umSeparation_100pH.gds\")"
   ]
  },
  {
   "cell_type": "markdown",
   "metadata": {},
   "source": [
    "Approx on Si"
   ]
  },
  {
   "cell_type": "code",
   "execution_count": 125,
   "metadata": {},
   "outputs": [
    {
     "name": "stdout",
     "output_type": "stream",
     "text": [
      " Imp: [2320.80313458] Ohm\n",
      "[318.68455385] nH\n",
      "[41.89174949] fF\n",
      "[17.27591266] fF\n",
      "Freq: [1.15903732] GHz\n"
     ]
    }
   ],
   "source": [
    "epsilon_r = 11.9\n",
    "thickness_subs = 500e-6\n",
    "ind_kin_sq = 100e-12\n",
    "\n",
    "print(f' Imp: {impedance_Schuster(CapacitorWidth*1e-6, CapacitorHorizontalLength*1e-6, (SeparationTlineResonator + FeedlineGap + SpacingCc)*1e-6 , FeedlineWidth*1e-6,\n",
    "                                       CapacitorVerticalLength*1e-6, SpacingC0*1e-6,\n",
    "                                       InductorWidth*1e-6, InductorTotalLength*1e-6, ind_kin_sq,\n",
    "                                       epsilon_r, thickness_subs)} Ohm')\n",
    "\n",
    "print(f'Freq: {1e-9*resonance_freq_Schuster(CapacitorWidth*1e-6, CapacitorHorizontalLength*1e-6, (SeparationTlineResonator + FeedlineGap + SpacingCc)*1e-6 , FeedlineWidth*1e-6,\n",
    "                                    CapacitorVerticalLength*1e-6, SpacingC0*1e-6,\n",
    "                                    InductorWidth*1e-6, InductorTotalLength*1e-6, ind_kin_sq,\n",
    "                                    epsilon_r, thickness_subs)} GHz')"
   ]
  },
  {
   "cell_type": "markdown",
   "metadata": {},
   "source": [
    "Approx on Ge heterostructure"
   ]
  },
  {
   "cell_type": "code",
   "execution_count": 127,
   "metadata": {},
   "outputs": [
    {
     "name": "stdout",
     "output_type": "stream",
     "text": [
      " Imp: [2072.63315993] Ohm\n",
      "[318.68455385] nH\n",
      "[53.39086452] fF\n",
      "[20.79414046] fF\n",
      "Freq: [1.03509821] GHz\n"
     ]
    }
   ],
   "source": [
    "epsilon_r = [15.18, 16, 15.18, 16, 11.9]\n",
    "thickness_subs = [50e-9, 20e-9, 600e-9, 300e-9, 600e-6]\n",
    "ind_kin_sq = 100e-12\n",
    "\n",
    "print(f' Imp: {impedance_Schuster(CapacitorWidth*1e-6, CapacitorHorizontalLength*1e-6, (SeparationTlineResonator + FeedlineGap + SpacingCc)*1e-6 , FeedlineWidth*1e-6,\n",
    "                                       CapacitorVerticalLength*1e-6, SpacingC0*1e-6,\n",
    "                                       InductorWidth*1e-6, InductorTotalLength*1e-6, ind_kin_sq,\n",
    "                                       epsilon_r, thickness_subs)} Ohm')\n",
    "\n",
    "print(f'Freq: {1e-9*resonance_freq_Schuster(CapacitorWidth*1e-6, CapacitorHorizontalLength*1e-6, (SeparationTlineResonator + FeedlineGap + SpacingCc)*1e-6 , FeedlineWidth*1e-6,\n",
    "                                    CapacitorVerticalLength*1e-6, SpacingC0*1e-6,\n",
    "                                    InductorWidth*1e-6, InductorTotalLength*1e-6, ind_kin_sq,\n",
    "                                    epsilon_r, thickness_subs)} GHz')"
   ]
  },
  {
   "cell_type": "markdown",
   "metadata": {},
   "source": [
    "Old stuff\n"
   ]
  },
  {
   "cell_type": "code",
   "execution_count": 21,
   "metadata": {},
   "outputs": [
    {
     "name": "stdout",
     "output_type": "stream",
     "text": [
      "[1.95e-05]\n",
      " Imp: [189.87116184] Ohm\n",
      "[0.003144]\n",
      "[1.95e-05]\n",
      "[19.56463804] nH\n",
      "[524.08161406] fF\n",
      "[18.61086348] fF\n",
      "Freq: [1.54456903] GHz\n"
     ]
    }
   ],
   "source": [
    "epsilon_r = 11.9\n",
    "thickness_subs = 500e-6\n",
    "ind_kin_sq = 5e-12\n",
    "print(f' Imp: {impedance_Schuster(CapacitorWidth*1e-6, CapacitorHorizontalLength*1e-6, (SeparationTlineResonator + FeedlineGap + SpacingCc)*1e-6 , InductorWidth*1e-6, InductorTotalLength*1e-6, SpacingC0*1e-6, epsilon_r, thickness_subs, ind_kin_sq)} Ohm')\n",
    "FeedlineGap = 5\n",
    "print(f'Freq: {1e-9*resonance_freq_Schuster(CapacitorWidth*1e-6, CapacitorHorizontalLength*1e-6, SeparationTlineResonator*1e-6 + SpacingCc*1e-6 + FeedlineGap*1e-6, InductorWidth*1e-6, InductorTotalLength*1e-6, SpacingC0*1e-6, epsilon_r, thickness_subs, ind_kin_sq)} GHz')"
   ]
  },
  {
   "cell_type": "code",
   "execution_count": 30,
   "metadata": {},
   "outputs": [
    {
     "name": "stdout",
     "output_type": "stream",
     "text": [
      "[1.95e-05]\n",
      " Imp: [790.99311946] Ohm\n",
      "[0.003144]\n",
      "[1.95e-05]\n",
      "[318.68455385] nH\n",
      "[497.51222733] fF\n",
      "[11.83694277] fF\n",
      "Freq: [0.39503159] GHz\n"
     ]
    }
   ],
   "source": [
    "epsilon_r = 11.9\n",
    "thickness_subs = 500e-6\n",
    "ind_kin_sq = 100e-12\n",
    "print(f' Imp: {impedance_Schuster(CapacitorWidth*1e-6, CapacitorHorizontalLength*1e-6, (SeparationTlineResonator + FeedlineGap + SpacingCc)*1e-6 , InductorWidth*1e-6, InductorTotalLength*1e-6, SpacingC0*1e-6, epsilon_r, thickness_subs, ind_kin_sq)} Ohm')\n",
    "print(f'Freq: {1e-9*resonance_freq_Schuster(CapacitorWidth*1e-6, CapacitorHorizontalLength*1e-6, SeparationTlineResonator*1e-6 + SpacingCc*1e-6 +FeedlineGap*1e-6, InductorWidth*1e-6, InductorTotalLength*1e-6, SpacingC0*1e-6, epsilon_r, thickness_subs, ind_kin_sq)} GHz')"
   ]
  },
  {
   "cell_type": "code",
   "execution_count": 31,
   "metadata": {},
   "outputs": [
    {
     "name": "stdout",
     "output_type": "stream",
     "text": [
      "[1.95e-05]\n",
      " Imp: [563.06391096] Ohm\n",
      "[0.003144]\n",
      "[1.95e-05]\n",
      "[161.48455385] nH\n",
      "[497.51222733] fF\n",
      "[11.83694277] fF\n",
      "Freq: [0.55494103] GHz\n"
     ]
    }
   ],
   "source": [
    "epsilon_r = 11.9\n",
    "thickness_subs = 500e-6\n",
    "ind_kin_sq = 50e-12\n",
    "print(f' Imp: {impedance_Schuster(CapacitorWidth*1e-6, CapacitorHorizontalLength*1e-6, (SeparationTlineResonator + FeedlineGap + SpacingCc)*1e-6 , InductorWidth*1e-6, InductorTotalLength*1e-6, SpacingC0*1e-6, epsilon_r, thickness_subs, ind_kin_sq)} Ohm')\n",
    "print(f'Freq: {1e-9*resonance_freq_Schuster(CapacitorWidth*1e-6, CapacitorHorizontalLength*1e-6, SeparationTlineResonator*1e-6 + SpacingCc*1e-6 +FeedlineGap*1e-6, InductorWidth*1e-6, InductorTotalLength*1e-6, SpacingC0*1e-6, epsilon_r, thickness_subs, ind_kin_sq)} GHz')"
   ]
  },
  {
   "cell_type": "markdown",
   "metadata": {},
   "source": [
    "Scarlino design"
   ]
  },
  {
   "cell_type": "code",
   "execution_count": 8,
   "metadata": {},
   "outputs": [
    {
     "name": "stdout",
     "output_type": "stream",
     "text": [
      "[413.]\n"
     ]
    }
   ],
   "source": [
    "SeparationTlineResonator_Scarlino = 0\n",
    "NumberOfResonators = 1\n",
    "FeedlineWidth_Scarlino = 190\n",
    "FeedlineLength_Scarlino  = 4600\n",
    "FeedlineGap_Scarlino = 3\n",
    "FeedlineTaperLength_Scarlino =  50\n",
    "BondpadWidth_Scarlino =  394\n",
    "BondpadLength_Scarlino = 200\n",
    "BondpadGap_Scarlino = 50\n",
    "\n",
    "#Resonator parameters\n",
    "CapacitorHorizontalLength_Scarlino = np.ones(NumberOfResonators)*50\n",
    "CapacitorVerticalLength_Scarlino = np.ones(NumberOfResonators)*50\n",
    "CapacitorWidth_Scarlino = np.ones(NumberOfResonators)*2\n",
    "\n",
    "NumberOfBends_Scarlino = np.ones(NumberOfResonators, dtype=int)*10\n",
    "InductorVerticalLength_Scarlino = np.ones(NumberOfResonators)*4.5\n",
    "InductorHorizontalLength_Scarlino = np.ones(NumberOfResonators)*16.5*2\n",
    "InductorEndLength_Scarlino = 20*np.ones(NumberOfResonators)\n",
    "InductorTotalLength_Scarlino = InductorVerticalLength_Scarlino*(NumberOfBends_Scarlino+4) + InductorEndLength_Scarlino +InductorHorizontalLength_Scarlino*NumberOfBends_Scarlino\n",
    "print(InductorTotalLength_Scarlino)\n",
    "InductorWidth_Scarlino = np.ones(NumberOfResonators)*0.5\n",
    "TaperWidth_Scarlino = np.ones(NumberOfResonators)*0\n",
    "SpacingC0_Scarlino = np.ones(NumberOfResonators)*25\n",
    "SpacingCc_Scarlino = np.ones(NumberOfResonators)*15\n",
    "TaperLength_Scarlino = np.ones(NumberOfResonators)*0"
   ]
  },
  {
   "cell_type": "code",
   "execution_count": 10,
   "metadata": {},
   "outputs": [
    {
     "name": "stdout",
     "output_type": "stream",
     "text": [
      " Imp: [2348.70739645] Ohm\n",
      "[132.76016356] nH\n",
      "[20.7629976] fF\n",
      "[3.30333686] fF\n",
      "Freq: [2.81566685] GHz\n"
     ]
    }
   ],
   "source": [
    "epsilon_r = 11.9\n",
    "thickness_subs = 500e-6\n",
    "ind_kin_sq = 160e-12\n",
    "\n",
    "print(f' Imp: {impedance_Schuster(CapacitorWidth_Scarlino*1e-6, CapacitorHorizontalLength_Scarlino*1e-6, (SeparationTlineResonator_Scarlino + FeedlineGap_Scarlino + SpacingCc_Scarlino)*1e-6 , FeedlineWidth_Scarlino*1e-6,\n",
    "                                       CapacitorVerticalLength_Scarlino*1e-6, SpacingC0_Scarlino*1e-6,\n",
    "                                       InductorWidth_Scarlino*1e-6, InductorTotalLength_Scarlino*1e-6, ind_kin_sq,\n",
    "                                       epsilon_r, thickness_subs)} Ohm')\n",
    "\n",
    "print(f'Freq: {1e-9*resonance_freq_Schuster(CapacitorWidth_Scarlino*1e-6, CapacitorHorizontalLength_Scarlino*1e-6, (SeparationTlineResonator_Scarlino + FeedlineGap_Scarlino + SpacingCc_Scarlino)*1e-6 , FeedlineWidth_Scarlino*1e-6,\n",
    "                                       CapacitorVerticalLength_Scarlino*1e-6, SpacingC0_Scarlino*1e-6,\n",
    "                                       InductorWidth_Scarlino*1e-6, InductorTotalLength_Scarlino*1e-6, ind_kin_sq,\n",
    "                                       epsilon_r, thickness_subs)} GHz')"
   ]
  },
  {
   "cell_type": "code",
   "execution_count": 11,
   "metadata": {},
   "outputs": [
    {
     "name": "stdout",
     "output_type": "stream",
     "text": [
      "Impedance: 54.01119803223267\n",
      "Effective relative permittivity: 5.231667511381774\n",
      "Inductance: 1.0102016163487764e-06\n",
      "Capacitance: 3.462903887737841e-10\n",
      "Resonant frequency: 22.277400355092865\n"
     ]
    }
   ],
   "source": [
    "width = FeedlineWidth_Scarlino*1e-6\n",
    "spacing = FeedlineGap_Scarlino*1e-6\n",
    "thickness_air = 10e-3\n",
    "thickness_subs = 500e-6\n",
    "epsilon_r = 11.9\n",
    "ind_kin_sq = 160e-12\n",
    "FeedlineLength_Scarlino = 1e-3\n",
    "print('Impedance:', impedance_CPW(width, spacing, epsilon_r, thickness_subs, ind_kin_sq))\n",
    "print('Effective relative permittivity:', epsilon_eff_CPW(width, spacing, epsilon_r, thickness_subs))\n",
    "print('Inductance:', ind_CPW_per_length(width, spacing, ind_kin_sq))\n",
    "print('Capacitance:', cap_CPW_per_length(width, spacing, epsilon_r, thickness_subs))\n",
    "print('Resonant frequency:', 1e-9*resonance_freq_CPW(width, spacing, epsilon_r, thickness_subs, ind_kin_sq, length))"
   ]
  }
 ],
 "metadata": {
  "kernelspec": {
   "display_name": "resonators",
   "language": "python",
   "name": "python3"
  },
  "language_info": {
   "codemirror_mode": {
    "name": "ipython",
    "version": 3
   },
   "file_extension": ".py",
   "mimetype": "text/x-python",
   "name": "python",
   "nbconvert_exporter": "python",
   "pygments_lexer": "ipython3",
   "version": "3.12.2"
  }
 },
 "nbformat": 4,
 "nbformat_minor": 2
}
